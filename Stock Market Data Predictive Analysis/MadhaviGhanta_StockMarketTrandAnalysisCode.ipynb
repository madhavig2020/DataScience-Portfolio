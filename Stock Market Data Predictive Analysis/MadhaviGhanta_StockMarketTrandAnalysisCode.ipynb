{
 "cells": [
  {
   "cell_type": "code",
   "execution_count": null,
   "id": "e6fbda97",
   "metadata": {},
   "outputs": [],
   "source": [
    "## Madhavi Ghanta\n",
    "## DSC 680 Project 3\n",
    "## Stock Market Trend Analysis Through Predictive Modelling"
   ]
  },
  {
   "cell_type": "code",
   "execution_count": 92,
   "id": "309a8aae",
   "metadata": {},
   "outputs": [],
   "source": [
    "import pandas as pd\n",
    "import yfinance as yf\n",
    "from ta.momentum import RSIIndicator\n",
    "import pandas as pd"
   ]
  },
  {
   "cell_type": "markdown",
   "id": "9eca1c29",
   "metadata": {},
   "source": [
    "#### Create the Predictive modeling using the YFinance data for s&p100 stocks"
   ]
  },
  {
   "cell_type": "code",
   "execution_count": 93,
   "id": "f0912ba7",
   "metadata": {},
   "outputs": [],
   "source": [
    "### S&P100 stocks\n",
    "\n",
    "sp100_tickers = [\n",
    "    \"AAPL\", \"ABBV\", \"ABT\", \"ACN\", \"ADBE\", \"AIG\", \"AMD\", \"AMGN\", \"AMT\", \"AMZN\",\n",
    "    \"AVGO\", \"AXP\", \"BA\", \"BAC\", \"BK\", \"BKNG\", \"BLK\", \"BMY\", \"C\", \"CAT\",\n",
    "    \"CHTR\", \"CL\", \"CMCSA\", \"COF\", \"COP\", \"COST\", \"CRM\", \"CSCO\", \"CVS\", \"CVX\", \"DE\",\n",
    "    \"DHR\", \"DIS\", \"DOW\", \"DUK\", \"EMR\", \"EXC\", \"F\", \"FDX\", \"GD\", \"GE\", \"GILD\", \"GM\",\n",
    "    \"GOOG\", \"GOOGL\", \"GS\", \"HD\", \"HON\", \"IBM\", \"INTC\", \"JNJ\", \"JPM\", \"KHC\", \"KO\", \"LIN\",\n",
    "    \"LLY\", \"LMT\", \"LOW\", \"MA\", \"MCD\", \"MDLZ\", \"MDT\", \"MET\", \"META\", \"MMM\", \"MO\", \"MRK\",\n",
    "    \"MS\", \"MSFT\", \"NEE\", \"NFLX\", \"NKE\", \"NVDA\", \"ORCL\", \"PEP\", \"PFE\", \"PG\", \"PM\", \"PYPL\",\n",
    "    \"QCOM\", \"RTX\", \"SBUX\", \"SCHW\", \"SO\", \"SPG\", \"T\", \"TGT\", \"TMO\", \"TMUS\", \"TSLA\", \"TXN\",\n",
    "    \"UNH\", \"UNP\", \"UPS\", \"USB\", \"V\", \"VZ\", \"WFC\", \"WMT\", \"XOM\"\n",
    "]\n"
   ]
  },
  {
   "cell_type": "code",
   "execution_count": 94,
   "id": "481bee82",
   "metadata": {},
   "outputs": [
    {
     "name": "stdout",
     "output_type": "stream",
     "text": [
      "        Date        Open        High         Low       Close   Adj Close  \\\n",
      "0 2023-01-03  130.279999  130.899994  124.169998  125.070000  124.048050   \n",
      "1 2023-01-04  126.889999  128.660004  125.080002  126.360001  125.327515   \n",
      "2 2023-01-05  127.129997  127.769997  124.760002  125.019997  123.998459   \n",
      "3 2023-01-06  126.010002  130.289993  124.889999  129.619995  128.560852   \n",
      "4 2023-01-09  130.470001  133.410004  129.889999  130.149994  129.086517   \n",
      "\n",
      "      Volume Ticker  \n",
      "0  112117500   AAPL  \n",
      "1   89113600   AAPL  \n",
      "2   80962700   AAPL  \n",
      "3   87754700   AAPL  \n",
      "4   70790800   AAPL  \n"
     ]
    }
   ],
   "source": [
    "import yfinance as yf\n",
    "import pandas as pd\n",
    "\n",
    "\n",
    "# Initialize an empty list to store the data for each ticker\n",
    "data_list = []\n",
    "\n",
    "for ticker in sp100_tickers:\n",
    "    # Download the data for the current ticker\n",
    "    data = yf.download(ticker, start='2023-01-01', end='2024-01-01', progress=False)\n",
    "    \n",
    "    # Add a new column named 'Ticker' filled with the current ticker symbol\n",
    "    data['Ticker'] = ticker\n",
    "    \n",
    "    # Append the DataFrame to the list\n",
    "    data_list.append(data)\n",
    "\n",
    "# Concatenate all the individual DataFrames into a single DataFrame\n",
    "combined_data = pd.concat(data_list)\n",
    "\n",
    "# Reset the index if you want to turn the Date index into a regular column\n",
    "combined_data.reset_index(inplace=True)\n",
    "\n",
    "# Now `combined_data` contains data for all tickers, with an additional 'Ticker' column\n",
    "print(combined_data.head())\n"
   ]
  },
  {
   "cell_type": "code",
   "execution_count": 95,
   "id": "3bc716b7",
   "metadata": {},
   "outputs": [],
   "source": [
    "def calculate_RSI(data, period=14):\n",
    "    delta = data['Close'].diff()\n",
    "    gain = (delta.where(delta > 0, 0)).rolling(window=period).mean()\n",
    "    loss = (-delta.where(delta < 0, 0)).rolling(window=period).mean()\n",
    "\n",
    "    RS = gain / loss\n",
    "    RSI = 100 - (100 / (1 + RS))\n",
    "    return RSI\n",
    "\n",
    "def calculate_MA(data, period):\n",
    "    return data['Close'].rolling(window=period).mean()\n",
    "\n",
    "def calculate_ADR(data, period=14):\n",
    "    data['Daily_Range'] = data['High'] - data['Low']\n",
    "    return data['Daily_Range'].rolling(window=period).mean()"
   ]
  },
  {
   "cell_type": "code",
   "execution_count": 96,
   "id": "4400a9ef",
   "metadata": {},
   "outputs": [
    {
     "data": {
      "text/plain": [
       "Index(['Date', 'Open', 'High', 'Low', 'Close', 'Adj Close', 'Volume',\n",
       "       'Ticker'],\n",
       "      dtype='object')"
      ]
     },
     "execution_count": 96,
     "metadata": {},
     "output_type": "execute_result"
    }
   ],
   "source": [
    "combined_data.columns"
   ]
  },
  {
   "cell_type": "code",
   "execution_count": 97,
   "id": "6fcd05ab",
   "metadata": {},
   "outputs": [
    {
     "name": "stdout",
     "output_type": "stream",
     "text": [
      "        Date        Open        High         Low       Close   Adj Close  \\\n",
      "0 2023-01-03  130.279999  130.899994  124.169998  125.070000  124.048050   \n",
      "1 2023-01-04  126.889999  128.660004  125.080002  126.360001  125.327515   \n",
      "2 2023-01-05  127.129997  127.769997  124.760002  125.019997  123.998459   \n",
      "3 2023-01-06  126.010002  130.289993  124.889999  129.619995  128.560852   \n",
      "4 2023-01-09  130.470001  133.410004  129.889999  130.149994  129.086517   \n",
      "\n",
      "      Volume Ticker  RSI  MA20  MA50  ADR  \n",
      "0  112117500   AAPL  NaN   NaN   NaN  NaN  \n",
      "1   89113600   AAPL  NaN   NaN   NaN  NaN  \n",
      "2   80962700   AAPL  NaN   NaN   NaN  NaN  \n",
      "3   87754700   AAPL  NaN   NaN   NaN  NaN  \n",
      "4   70790800   AAPL  NaN   NaN   NaN  NaN  \n"
     ]
    }
   ],
   "source": [
    "# Ensure it's sorted by Ticker and Date if not already\n",
    "combined_data.sort_values(by=['Ticker', 'Date'], inplace=True)\n",
    "\n",
    "# Apply calculations for each ticker\n",
    "grouped = combined_data.groupby('Ticker')\n",
    "\n",
    "combined_data['RSI'] = grouped.apply(lambda x: calculate_RSI(x)).reset_index(level=0, drop=True)\n",
    "combined_data['MA20'] = grouped.apply(lambda x: calculate_MA(x, 20)).reset_index(level=0, drop=True)\n",
    "combined_data['MA50'] = grouped.apply(lambda x: calculate_MA(x, 50)).reset_index(level=0, drop=True)\n",
    "combined_data['ADR'] = grouped.apply(lambda x: calculate_ADR(x)).reset_index(level=0, drop=True)\n",
    "\n",
    "# The combined_data DataFrame now contains the RSI, MA20, MA50, and ADR for each ticker\n",
    "print(combined_data.head())"
   ]
  },
  {
   "cell_type": "code",
   "execution_count": 98,
   "id": "1867bdb0",
   "metadata": {},
   "outputs": [],
   "source": [
    "# Assuming combined_data is your pandas DataFrame\n",
    "combined_data_clean = combined_data.dropna()\n",
    "\n",
    "# Now combined_data_clean should not contain any rows with NaN values\n"
   ]
  },
  {
   "cell_type": "code",
   "execution_count": 99,
   "id": "730616ac",
   "metadata": {},
   "outputs": [
    {
     "name": "stdout",
     "output_type": "stream",
     "text": [
      "Original dataset size: (25000, 12)\n",
      "Cleaned dataset size: (20100, 12)\n"
     ]
    }
   ],
   "source": [
    "print(f\"Original dataset size: {combined_data.shape}\")\n",
    "print(f\"Cleaned dataset size: {combined_data_clean.shape}\")\n"
   ]
  },
  {
   "cell_type": "markdown",
   "id": "79b21574",
   "metadata": {},
   "source": [
    "#### create the model based on the above dataset"
   ]
  },
  {
   "cell_type": "code",
   "execution_count": 100,
   "id": "82e4a046",
   "metadata": {},
   "outputs": [
    {
     "name": "stdout",
     "output_type": "stream",
     "text": [
      "RMSE: 5.763521495956602\n"
     ]
    },
    {
     "name": "stderr",
     "output_type": "stream",
     "text": [
      "C:\\Users\\mghan\\AppData\\Local\\Temp\\ipykernel_28272\\3671934190.py:10: SettingWithCopyWarning: \n",
      "A value is trying to be set on a copy of a slice from a DataFrame.\n",
      "Try using .loc[row_indexer,col_indexer] = value instead\n",
      "\n",
      "See the caveats in the documentation: https://pandas.pydata.org/pandas-docs/stable/user_guide/indexing.html#returning-a-view-versus-a-copy\n",
      "  combined_data_clean['NextClose'] = combined_data_clean.groupby('Ticker')['Close'].shift(-1)\n",
      "C:\\Users\\mghan\\AppData\\Local\\Temp\\ipykernel_28272\\3671934190.py:13: SettingWithCopyWarning: \n",
      "A value is trying to be set on a copy of a slice from a DataFrame\n",
      "\n",
      "See the caveats in the documentation: https://pandas.pydata.org/pandas-docs/stable/user_guide/indexing.html#returning-a-view-versus-a-copy\n",
      "  combined_data_clean.dropna(subset=['NextClose'], inplace=True)\n"
     ]
    }
   ],
   "source": [
    "from sklearn.model_selection import train_test_split\n",
    "from sklearn.linear_model import LinearRegression\n",
    "from sklearn.metrics import mean_squared_error\n",
    "import numpy as np\n",
    "\n",
    "# Assuming combined_data is already loaded and contains the necessary columns\n",
    "\n",
    "# Step 1: Prepare the data\n",
    "# Predicting the next day's 'Close' price. Shift 'Close' by -1 to create the target.\n",
    "combined_data_clean['NextClose'] = combined_data_clean.groupby('Ticker')['Close'].shift(-1)\n",
    "\n",
    "# Drop the last row for each ticker where the target would be NaN\n",
    "combined_data_clean.dropna(subset=['NextClose'], inplace=True)\n",
    "\n",
    "# Selecting features and target\n",
    "X = combined_data_clean[['Close', 'RSI', 'MA20', 'MA50', 'ADR']]\n",
    "y = combined_data_clean['NextClose']\n",
    "\n",
    "# Step 2: Split the data\n",
    "X_train, X_test, y_train, y_test = train_test_split(X, y, test_size=0.2, random_state=42)\n",
    "\n",
    "# Step 3: Model selection\n",
    "model = LinearRegression()\n",
    "\n",
    "# Step 4: Train the model\n",
    "model.fit(X_train, y_train)\n",
    "\n",
    "# # Step 5: Evaluate the model\n",
    "predictions = model.predict(X_test)\n",
    "mse = mean_squared_error(y_test, predictions)\n",
    "rmse = np.sqrt(mse)\n",
    "\n",
    "print(f\"RMSE: {rmse}\")\n"
   ]
  },
  {
   "cell_type": "markdown",
   "id": "acdfaad1",
   "metadata": {},
   "source": [
    "The Root Mean Squared Error (RMSE) is a standard way to measure the error of a model in predicting quantitative data. Specifically, an RMSE of 6.674746185837464 means that, on average, the model's predictions deviate from the actual observed values by approximately 6.67 units of the target variable."
   ]
  },
  {
   "cell_type": "markdown",
   "id": "145cc7d3",
   "metadata": {},
   "source": [
    "#### Q1: How does the model account for market volatility?"
   ]
  },
  {
   "cell_type": "markdown",
   "id": "fffaf819",
   "metadata": {},
   "source": [
    "First, calculate the historical volatility as the rolling standard deviation of daily returns over a specific period"
   ]
  },
  {
   "cell_type": "code",
   "execution_count": 101,
   "id": "4529ed68",
   "metadata": {},
   "outputs": [
    {
     "name": "stderr",
     "output_type": "stream",
     "text": [
      "C:\\Users\\mghan\\AppData\\Local\\Temp\\ipykernel_28272\\3720295158.py:2: SettingWithCopyWarning: \n",
      "A value is trying to be set on a copy of a slice from a DataFrame.\n",
      "Try using .loc[row_indexer,col_indexer] = value instead\n",
      "\n",
      "See the caveats in the documentation: https://pandas.pydata.org/pandas-docs/stable/user_guide/indexing.html#returning-a-view-versus-a-copy\n",
      "  combined_data_clean['Close_MA10'] = combined_data_clean.groupby('Ticker')['Close'].transform(lambda x: x.rolling(window=10).mean())\n",
      "C:\\Users\\mghan\\AppData\\Local\\Temp\\ipykernel_28272\\3720295158.py:3: SettingWithCopyWarning: \n",
      "A value is trying to be set on a copy of a slice from a DataFrame.\n",
      "Try using .loc[row_indexer,col_indexer] = value instead\n",
      "\n",
      "See the caveats in the documentation: https://pandas.pydata.org/pandas-docs/stable/user_guide/indexing.html#returning-a-view-versus-a-copy\n",
      "  combined_data_clean['Close_MA20'] = combined_data_clean.groupby('Ticker')['Close'].transform(lambda x: x.rolling(window=20).mean())\n",
      "C:\\Users\\mghan\\AppData\\Local\\Temp\\ipykernel_28272\\3720295158.py:4: SettingWithCopyWarning: \n",
      "A value is trying to be set on a copy of a slice from a DataFrame.\n",
      "Try using .loc[row_indexer,col_indexer] = value instead\n",
      "\n",
      "See the caveats in the documentation: https://pandas.pydata.org/pandas-docs/stable/user_guide/indexing.html#returning-a-view-versus-a-copy\n",
      "  combined_data_clean['Close_std10'] = combined_data_clean.groupby('Ticker')['Close'].transform(lambda x: x.rolling(window=10).std())\n",
      "C:\\Users\\mghan\\AppData\\Local\\Temp\\ipykernel_28272\\3720295158.py:7: SettingWithCopyWarning: \n",
      "A value is trying to be set on a copy of a slice from a DataFrame\n",
      "\n",
      "See the caveats in the documentation: https://pandas.pydata.org/pandas-docs/stable/user_guide/indexing.html#returning-a-view-versus-a-copy\n",
      "  combined_data_clean.dropna(inplace=True)\n"
     ]
    }
   ],
   "source": [
    "# Calculate rolling window features for 'Close' price\n",
    "combined_data_clean['Close_MA10'] = combined_data_clean.groupby('Ticker')['Close'].transform(lambda x: x.rolling(window=10).mean())\n",
    "combined_data_clean['Close_MA20'] = combined_data_clean.groupby('Ticker')['Close'].transform(lambda x: x.rolling(window=20).mean())\n",
    "combined_data_clean['Close_std10'] = combined_data_clean.groupby('Ticker')['Close'].transform(lambda x: x.rolling(window=10).std())\n",
    "\n",
    "# Drop rows with NaN values created by rolling windows\n",
    "combined_data_clean.dropna(inplace=True)\n"
   ]
  },
  {
   "cell_type": "code",
   "execution_count": 102,
   "id": "fd7054e4",
   "metadata": {},
   "outputs": [],
   "source": [
    "from sklearn.ensemble import GradientBoostingRegressor\n"
   ]
  },
  {
   "cell_type": "code",
   "execution_count": 103,
   "id": "44171e7a",
   "metadata": {},
   "outputs": [],
   "source": [
    "X = combined_data_clean[['RSI',  'Close_MA10', 'Close_MA20', 'Close_std10']]\n",
    "y = combined_data_clean['NextClose']\n"
   ]
  },
  {
   "cell_type": "code",
   "execution_count": 104,
   "id": "2e3cdff4",
   "metadata": {},
   "outputs": [],
   "source": [
    "X_train, X_test, y_train, y_test = train_test_split(X, y, test_size=0.2, random_state=42)\n"
   ]
  },
  {
   "cell_type": "code",
   "execution_count": 105,
   "id": "08ee8967",
   "metadata": {},
   "outputs": [
    {
     "name": "stdout",
     "output_type": "stream",
     "text": [
      "RMSE: 8.581358801239402\n"
     ]
    }
   ],
   "source": [
    "# Initialize the model\n",
    "gbr = GradientBoostingRegressor(n_estimators=100, learning_rate=0.1, max_depth=3, random_state=42)\n",
    "\n",
    "# Train the model\n",
    "gbr.fit(X_train, y_train)\n",
    "\n",
    "# Make predictions\n",
    "predictions = gbr.predict(X_test)\n",
    "\n",
    "# Calculate RMSE\n",
    "rmse = np.sqrt(mean_squared_error(y_test, predictions))\n",
    "\n",
    "print(f\"RMSE: {rmse}\")\n"
   ]
  },
  {
   "cell_type": "markdown",
   "id": "6f0eb704",
   "metadata": {},
   "source": [
    "Next Steps for Further Improvement:\n",
    "Cross-Validation: If not already done, use cross-validation to assess the model's stability and performance across different subsets of your data.\n",
    "Feature Selection: Investigate the importance of individual features in your Gradient Boosting model. You might find opportunities to refine or add features further.\n",
    "Hyperparameter Optimization: Continue to refine the hyperparameters of your Gradient Boosting Regressor. Tools like GridSearchCV or RandomizedSearchCV can help automate this process.\n",
    "Alternative Models: Experiment with other advanced machine learning models, such as Random Forest, XGBoost, or neural networks, and compare their performance."
   ]
  },
  {
   "cell_type": "markdown",
   "id": "d1e761fb",
   "metadata": {},
   "source": [
    "#### Q2: Can the model be adapted for different stocks or sectors?"
   ]
  },
  {
   "cell_type": "markdown",
   "id": "3db4ab50",
   "metadata": {},
   "source": [
    "Yes, the model can be adapted for different stocks or sectors with some considerations and adjustments to ensure it captures the unique characteristics and dynamics of each stock or sector. "
   ]
  },
  {
   "cell_type": "code",
   "execution_count": 106,
   "id": "4c0c820a",
   "metadata": {},
   "outputs": [
    {
     "name": "stdout",
     "output_type": "stream",
     "text": [
      "         Date  StockPrice        RSI      Sector     SMA_10\n",
      "9  2023-01-10   83.672726  42.900793  Technology  97.981460\n",
      "10 2023-01-11  100.101245  61.127086  Technology  98.397978\n",
      "11 2023-01-12   91.118955  53.257448  Technology  97.522937\n",
      "12 2023-01-13   94.564451  34.837292  Technology  96.234309\n",
      "13 2023-01-14   88.262552  36.185903  Technology  93.757263\n"
     ]
    }
   ],
   "source": [
    "import pandas as pd\n",
    "import numpy as np\n",
    "\n",
    "# Simulate some data for stocks from the Technology and Energy sectors\n",
    "data = {\n",
    "    'Date': pd.date_range(start=\"2023-01-01\", periods=60, freq='D'),\n",
    "    'StockPrice': np.concatenate([np.random.normal(100, 10, 30), np.random.normal(50, 5, 30)]),\n",
    "    'RSI': np.concatenate([np.random.uniform(30, 70, 30), np.random.uniform(30, 70, 30)]),\n",
    "    'Sector': ['Technology'] * 30 + ['Energy'] * 30\n",
    "}\n",
    "\n",
    "df = pd.DataFrame(data)\n",
    "\n",
    "# Calculate a simple moving average (SMA) as an additional feature\n",
    "df['SMA_10'] = df['StockPrice'].rolling(window=10).mean()\n",
    "\n",
    "# Drop rows with NaN values that result from the rolling mean calculation\n",
    "df.dropna(inplace=True)\n",
    "\n",
    "print(df.head())\n"
   ]
  },
  {
   "cell_type": "code",
   "execution_count": 107,
   "id": "51257b73",
   "metadata": {},
   "outputs": [],
   "source": [
    "tech_data = df[df['Sector'] == 'Technology']\n",
    "energy_data = df[df['Sector'] == 'Energy']\n"
   ]
  },
  {
   "cell_type": "code",
   "execution_count": 108,
   "id": "48155f4b",
   "metadata": {},
   "outputs": [
    {
     "name": "stdout",
     "output_type": "stream",
     "text": [
      "Technology Sector RMSE: 17.09048263318332\n"
     ]
    }
   ],
   "source": [
    "from sklearn.model_selection import train_test_split\n",
    "from sklearn.ensemble import GradientBoostingRegressor\n",
    "from sklearn.metrics import mean_squared_error\n",
    "\n",
    "# Select features and target for the Technology sector\n",
    "X_tech = tech_data[['RSI', 'SMA_10']]\n",
    "y_tech = tech_data['StockPrice']\n",
    "\n",
    "# Split the data\n",
    "X_train_tech, X_test_tech, y_train_tech, y_test_tech = train_test_split(X_tech, y_tech, test_size=0.2, random_state=42)\n",
    "\n",
    "# Initialize and train the model\n",
    "model_tech = GradientBoostingRegressor(random_state=42)\n",
    "model_tech.fit(X_train_tech, y_train_tech)\n",
    "\n",
    "# Evaluate the model\n",
    "predictions_tech = model_tech.predict(X_test_tech)\n",
    "rmse_tech = np.sqrt(mean_squared_error(y_test_tech, predictions_tech))\n",
    "\n",
    "print(f\"Technology Sector RMSE: {rmse_tech}\")\n"
   ]
  },
  {
   "cell_type": "markdown",
   "id": "5285932b",
   "metadata": {},
   "source": [
    "The actual implementation would involve more detailed data preparation, feature engineering, and model tuning to optimize performance for each sector."
   ]
  },
  {
   "cell_type": "markdown",
   "id": "4dc54955",
   "metadata": {},
   "source": [
    "#### Q3: What measures is taken to ensure data privacy and ethical considerations?"
   ]
  },
  {
   "cell_type": "markdown",
   "id": "d5acc409",
   "metadata": {},
   "source": [
    "To ensure data privacy and adhere to ethical considerations, especially with financial data, it's crucial to comply with legal regulations (like GDPR and CCPA), anonymize or pseudonymize personal information, minimize the data collected to only what's necessary, and secure data storage and transmission. Transparency with users about data usage and obtaining their consent, conducting regular privacy and bias audits, and implementing data retention policies are also key steps. These measures protect individual privacy, ensure compliance, and maintain user trust."
   ]
  },
  {
   "cell_type": "markdown",
   "id": "360f4793",
   "metadata": {},
   "source": [
    "#### Q4. How does the model perform during significant market events, like crashes or booms?"
   ]
  },
  {
   "cell_type": "markdown",
   "id": "cbf37f7f",
   "metadata": {},
   "source": [
    "This case we will use 2 different set of date range and check the performance of the model. the first date range will be for 2020 market crash and the next is from 2020 august till 2021 august where the market really performed well"
   ]
  },
  {
   "cell_type": "code",
   "execution_count": 109,
   "id": "554f4cce",
   "metadata": {},
   "outputs": [],
   "source": [
    "\n",
    "def DF_Cleansing(start_dt,end_dt,tickers=sp100_tickers):\n",
    "    # Initialize an empty list to store the data for each ticker\n",
    "    data_list = []\n",
    "\n",
    "    for ticker in tickers:\n",
    "        # Download the data for the current ticker\n",
    "        data = yf.download(ticker,start_dt,end_dt, progress=False)\n",
    "    \n",
    "        # Add a new column named 'Ticker' filled with the current ticker symbol\n",
    "        data['Ticker'] = ticker\n",
    "    \n",
    "        # Append the DataFrame to the list\n",
    "        data_list.append(data)\n",
    "\n",
    "    # Concatenate all the individual DataFrames into a single DataFrame\n",
    "    combined_data = pd.concat(data_list)\n",
    "\n",
    "    # Reset the index if you want to turn the Date index into a regular column\n",
    "    combined_data.reset_index(inplace=True)\n",
    "    combined_data_clean = combined_data.dropna()\n",
    "    # Calculate rolling window features for 'Close' price\n",
    "    # Ensure it's sorted by Ticker and Date if not already\n",
    "    combined_data_clean.sort_values(by=['Ticker', 'Date'], inplace=True)\n",
    "\n",
    "    # Apply calculations for each ticker\n",
    "#     grouped = combined_data_clean.groupby('Ticker')\n",
    "    \n",
    "    \n",
    "    return combined_data_clean\n",
    "\n",
    "    "
   ]
  },
  {
   "cell_type": "code",
   "execution_count": 110,
   "id": "97d156a2",
   "metadata": {},
   "outputs": [],
   "source": [
    "def Add_new_columns(df):\n",
    "    grouped = df.groupby('Ticker')\n",
    "    # Calculate RSI Direction\n",
    "    df['RSI'] = grouped.apply(lambda x: calculate_RSI(x)).reset_index(level=0, drop=True)\n",
    "    df['RSI_Direction'] = grouped['RSI'].diff().apply(lambda x: 1 if x > 0 else 0)\n",
    "    # Calculate 5-day moving average of RSI\n",
    "    df['RSI_MA5'] = grouped['RSI'].transform(lambda x: x.rolling(window=5).mean())\n",
    "    # Calculate daily returns\n",
    "    df['Daily_Returns'] = grouped['Close'].pct_change()\n",
    "\n",
    "    # Calculate a 20-day rolling standard deviation of daily returns (historical volatility)\n",
    "    df['Hist_Vol_20d'] = grouped['Daily_Returns'].transform(lambda x: x.rolling(window=20).std())\n",
    "\n",
    "    # Now, 'Hist_Vol_20d' can be used as a feature in your model to account for market volatility\n",
    "\n",
    "    df['NextClose'] = grouped['Close'].shift(-1)\n",
    "\n",
    "\n",
    "    df['MA20'] = grouped.apply(lambda x: calculate_MA(x, 20)).reset_index(level=0, drop=True)\n",
    "    df['MA50'] = grouped.apply(lambda x: calculate_MA(x, 50)).reset_index(level=0, drop=True)\n",
    "    df['ADR'] = grouped.apply(lambda x: calculate_ADR(x)).reset_index(level=0, drop=True)\n",
    "    df['Close_MA10'] = grouped['Close'].transform(lambda x: x.rolling(window=10).mean())\n",
    "    df['Close_MA20'] = grouped['Close'].transform(lambda x: x.rolling(window=20).mean())\n",
    "    df['Close_std10'] = grouped['Close'].transform(lambda x: x.rolling(window=10).std())\n",
    "    df = df.dropna()\n",
    "\n",
    "    return df"
   ]
  },
  {
   "cell_type": "code",
   "execution_count": 111,
   "id": "adca53f0",
   "metadata": {},
   "outputs": [],
   "source": [
    "def rmse_cal(df):\n",
    "    X = df[['RSI', 'RSI_Direction', 'RSI_MA5', 'Hist_Vol_20d', 'Close_MA10', 'Close_MA20', 'Close_std10']]\n",
    "    y = df['NextClose']\n",
    "\n",
    "    X_train, X_test, y_train, y_test = train_test_split(X, y, test_size=0.2, random_state=42)\n",
    "\n",
    "    # Initialize the model\n",
    "    gbr = GradientBoostingRegressor(n_estimators=100, learning_rate=0.1, max_depth=3, random_state=42)\n",
    "\n",
    "    # Train the model\n",
    "    gbr.fit(X_train, y_train)\n",
    "\n",
    "    # Make predictions\n",
    "    predictions = gbr.predict(X_test)\n",
    "\n",
    "    # Calculate RMSE\n",
    "    rmse = np.sqrt(mean_squared_error(y_test, predictions))\n",
    "\n",
    "    print(f\"RMSE: {rmse}\")"
   ]
  },
  {
   "cell_type": "code",
   "execution_count": 112,
   "id": "fb3b1c0a",
   "metadata": {},
   "outputs": [
    {
     "name": "stdout",
     "output_type": "stream",
     "text": [
      "         Date        Open        High         Low       Close   Adj Close  \\\n",
      "49 2021-03-16  125.699997  127.220001  124.720001  125.570000  123.250534   \n",
      "50 2021-03-17  124.050003  125.860001  122.339996  124.760002  122.455482   \n",
      "51 2021-03-18  122.879997  123.180000  120.320000  120.529999  118.303612   \n",
      "52 2021-03-19  119.900002  121.430000  119.680000  119.989998  117.773598   \n",
      "53 2021-03-22  120.330002  123.870003  120.260002  123.389999  121.110794   \n",
      "\n",
      "       Volume Ticker        RSI  RSI_Direction    RSI_MA5  Daily_Returns  \\\n",
      "49  115227900   AAPL  50.286013              1  43.284378       0.012743   \n",
      "50  111932600   AAPL  55.399607              1  47.090555      -0.006451   \n",
      "51  121229700   AAPL  49.060968              0  49.011520      -0.033905   \n",
      "52  185549500   AAPL  38.138678              0  48.076919      -0.004480   \n",
      "53  111912300   AAPL  47.426356              1  48.062324       0.028336   \n",
      "\n",
      "    Hist_Vol_20d   NextClose        MA20      MA50       ADR  Close_MA10  \\\n",
      "49      0.024312  124.760002  123.818999  129.8660  3.747142  121.358999   \n",
      "50      0.024076  120.529999  123.515000  129.7730  3.575714  121.628999   \n",
      "51      0.025079  119.989998  123.055999  129.5634  3.519285  121.668999   \n",
      "52      0.025057  123.389999  122.562000  129.4312  3.277143  121.525999   \n",
      "53      0.025235  122.540001  122.431499  129.2806  3.270000  122.228999   \n",
      "\n",
      "    Close_MA20  Close_std10  \n",
      "49  123.818999     2.451613  \n",
      "50  123.515000     2.675819  \n",
      "51  123.055999     2.653821  \n",
      "52  122.562000     2.706729  \n",
      "53  122.431499     2.048910  \n"
     ]
    }
   ],
   "source": [
    "\n",
    "print(final_df.head())"
   ]
  },
  {
   "cell_type": "code",
   "execution_count": 113,
   "id": "695290c7",
   "metadata": {},
   "outputs": [
    {
     "name": "stdout",
     "output_type": "stream",
     "text": [
      "RMSE: 6.486463896149155\n"
     ]
    }
   ],
   "source": [
    "# print the rmse from Jan 2023 2019 - Jun 2023\n",
    "df = DF_Cleansing('2023-01-01','2023-06-01')\n",
    "final_df = Add_new_columns(df)\n",
    "rmse_cal(final_df)"
   ]
  },
  {
   "cell_type": "code",
   "execution_count": 114,
   "id": "d7b12161",
   "metadata": {},
   "outputs": [
    {
     "name": "stdout",
     "output_type": "stream",
     "text": [
      "RMSE: 8.162868049079432\n"
     ]
    }
   ],
   "source": [
    "### For the date from Jun 2023 - Jan 2024\n",
    "\n",
    "df = DF_Cleansing('2023-06-01','2024-01-01')\n",
    "final_df = Add_new_columns(df)\n",
    "rmse_cal(final_df)"
   ]
  },
  {
   "cell_type": "markdown",
   "id": "e228b94c",
   "metadata": {},
   "source": [
    "In a volatile market, stock prices can change dramatically in short periods, influenced by a wide array of factors including economic indicators, company news, and market sentiment. Predicting stock market movements under these conditions is inherently more challenging. The higher RMSE value indicates that the model's predictions were less accurate, which is expected given the unpredictability and noise in the data. The model may struggle to capture sudden swings or react to unforeseen events, leading to larger discrepancies between predicted and actual values.\n",
    "\n",
    "In contrast, a stabilized market is characterized by less dramatic fluctuations and may follow more predictable trends influenced by longer-term economic factors. In such environments, predictive models can perform better, as indicated by the lower RMSE value. The reduced volatility means that the patterns the model has learned from historical data are more likely to hold true in the near future, resulting in more accurate predictions.\n",
    "\n",
    "\n",
    "\n"
   ]
  },
  {
   "cell_type": "markdown",
   "id": "594c2f89",
   "metadata": {},
   "source": [
    "#### 5.What are the next steps in improving model accuracy?"
   ]
  },
  {
   "cell_type": "markdown",
   "id": "2d210498",
   "metadata": {},
   "source": [
    "Expand Feature Set: Incorporate additional features that influence stock prices, such as macroeconomic indicators (interest rates, inflation rates), company fundamentals (earnings, revenue growth), and sentiment analysis from news and social media. This can provide a more holistic view of the factors affecting stock prices.\n",
    "\n",
    "Experiment with Different Models: Beyond linear regression, explore more complex models such as ensemble methods (Random Forests, Gradient Boosting Machines), deep learning networks, and time series forecasting models (ARIMA, LSTM networks). These models can capture nonlinear relationships and patterns not discernible with simpler approaches.\n",
    "\n",
    "Implement Cross-Validation: Use techniques like k-fold cross-validation to assess how the model performs on unseen data, ensuring that the model generalizes well and is not overfitting to the training data."
   ]
  },
  {
   "cell_type": "markdown",
   "id": "3c010e84",
   "metadata": {},
   "source": [
    "### 6. How Adjusted R-square , RSI and other features can be used in creating model? "
   ]
  },
  {
   "cell_type": "code",
   "execution_count": 115,
   "id": "e0993405",
   "metadata": {},
   "outputs": [],
   "source": [
    "from sklearn.metrics import mean_squared_error\n",
    "\n",
    "def adjusted_r_squared(X, y, y_pred):\n",
    "    r_squared = r2_score(y, y_pred)\n",
    "    n = len(y)  # Number of observations\n",
    "    p = X.shape[1]  # Number of predictors\n",
    "    adj_r_squared = 1 - (1-r_squared)*(n-1)/(n-p-1)\n",
    "    return adj_r_squared\n",
    "\n",
    "\n"
   ]
  },
  {
   "cell_type": "code",
   "execution_count": 116,
   "id": "28c491da",
   "metadata": {},
   "outputs": [],
   "source": [
    "## create dataset for last 3 years.\n",
    "\n",
    "### For the date from 2021 - 2024\n",
    "\n",
    "df = DF_Cleansing('2021-01-01','2024-01-01')\n",
    "final_df = Add_new_columns(df)"
   ]
  },
  {
   "cell_type": "code",
   "execution_count": 117,
   "id": "8ee89f9b",
   "metadata": {},
   "outputs": [
    {
     "data": {
      "text/html": [
       "<div>\n",
       "<style scoped>\n",
       "    .dataframe tbody tr th:only-of-type {\n",
       "        vertical-align: middle;\n",
       "    }\n",
       "\n",
       "    .dataframe tbody tr th {\n",
       "        vertical-align: top;\n",
       "    }\n",
       "\n",
       "    .dataframe thead th {\n",
       "        text-align: right;\n",
       "    }\n",
       "</style>\n",
       "<table border=\"1\" class=\"dataframe\">\n",
       "  <thead>\n",
       "    <tr style=\"text-align: right;\">\n",
       "      <th></th>\n",
       "      <th>Date</th>\n",
       "      <th>Open</th>\n",
       "      <th>High</th>\n",
       "      <th>Low</th>\n",
       "      <th>Close</th>\n",
       "      <th>Adj Close</th>\n",
       "      <th>Volume</th>\n",
       "      <th>Ticker</th>\n",
       "      <th>RSI</th>\n",
       "      <th>RSI_Direction</th>\n",
       "      <th>RSI_MA5</th>\n",
       "      <th>Daily_Returns</th>\n",
       "      <th>Hist_Vol_20d</th>\n",
       "      <th>NextClose</th>\n",
       "      <th>MA20</th>\n",
       "      <th>MA50</th>\n",
       "      <th>ADR</th>\n",
       "      <th>Close_MA10</th>\n",
       "      <th>Close_MA20</th>\n",
       "      <th>Close_std10</th>\n",
       "    </tr>\n",
       "  </thead>\n",
       "  <tbody>\n",
       "    <tr>\n",
       "      <th>49</th>\n",
       "      <td>2021-03-16</td>\n",
       "      <td>125.699997</td>\n",
       "      <td>127.220001</td>\n",
       "      <td>124.720001</td>\n",
       "      <td>125.570000</td>\n",
       "      <td>123.250519</td>\n",
       "      <td>115227900</td>\n",
       "      <td>AAPL</td>\n",
       "      <td>50.286013</td>\n",
       "      <td>1</td>\n",
       "      <td>43.284378</td>\n",
       "      <td>0.012743</td>\n",
       "      <td>0.024312</td>\n",
       "      <td>124.760002</td>\n",
       "      <td>123.818999</td>\n",
       "      <td>129.8660</td>\n",
       "      <td>3.747142</td>\n",
       "      <td>121.358999</td>\n",
       "      <td>123.818999</td>\n",
       "      <td>2.451613</td>\n",
       "    </tr>\n",
       "    <tr>\n",
       "      <th>50</th>\n",
       "      <td>2021-03-17</td>\n",
       "      <td>124.050003</td>\n",
       "      <td>125.860001</td>\n",
       "      <td>122.339996</td>\n",
       "      <td>124.760002</td>\n",
       "      <td>122.455498</td>\n",
       "      <td>111932600</td>\n",
       "      <td>AAPL</td>\n",
       "      <td>55.399607</td>\n",
       "      <td>1</td>\n",
       "      <td>47.090555</td>\n",
       "      <td>-0.006451</td>\n",
       "      <td>0.024076</td>\n",
       "      <td>120.529999</td>\n",
       "      <td>123.515000</td>\n",
       "      <td>129.7730</td>\n",
       "      <td>3.575714</td>\n",
       "      <td>121.628999</td>\n",
       "      <td>123.515000</td>\n",
       "      <td>2.675819</td>\n",
       "    </tr>\n",
       "    <tr>\n",
       "      <th>51</th>\n",
       "      <td>2021-03-18</td>\n",
       "      <td>122.879997</td>\n",
       "      <td>123.180000</td>\n",
       "      <td>120.320000</td>\n",
       "      <td>120.529999</td>\n",
       "      <td>118.303612</td>\n",
       "      <td>121229700</td>\n",
       "      <td>AAPL</td>\n",
       "      <td>49.060968</td>\n",
       "      <td>0</td>\n",
       "      <td>49.011520</td>\n",
       "      <td>-0.033905</td>\n",
       "      <td>0.025079</td>\n",
       "      <td>119.989998</td>\n",
       "      <td>123.055999</td>\n",
       "      <td>129.5634</td>\n",
       "      <td>3.519285</td>\n",
       "      <td>121.668999</td>\n",
       "      <td>123.055999</td>\n",
       "      <td>2.653821</td>\n",
       "    </tr>\n",
       "    <tr>\n",
       "      <th>52</th>\n",
       "      <td>2021-03-19</td>\n",
       "      <td>119.900002</td>\n",
       "      <td>121.430000</td>\n",
       "      <td>119.680000</td>\n",
       "      <td>119.989998</td>\n",
       "      <td>117.773598</td>\n",
       "      <td>185549500</td>\n",
       "      <td>AAPL</td>\n",
       "      <td>38.138678</td>\n",
       "      <td>0</td>\n",
       "      <td>48.076919</td>\n",
       "      <td>-0.004480</td>\n",
       "      <td>0.025057</td>\n",
       "      <td>123.389999</td>\n",
       "      <td>122.562000</td>\n",
       "      <td>129.4312</td>\n",
       "      <td>3.277143</td>\n",
       "      <td>121.525999</td>\n",
       "      <td>122.562000</td>\n",
       "      <td>2.706729</td>\n",
       "    </tr>\n",
       "    <tr>\n",
       "      <th>53</th>\n",
       "      <td>2021-03-22</td>\n",
       "      <td>120.330002</td>\n",
       "      <td>123.870003</td>\n",
       "      <td>120.260002</td>\n",
       "      <td>123.389999</td>\n",
       "      <td>121.110809</td>\n",
       "      <td>111912300</td>\n",
       "      <td>AAPL</td>\n",
       "      <td>47.426356</td>\n",
       "      <td>1</td>\n",
       "      <td>48.062324</td>\n",
       "      <td>0.028336</td>\n",
       "      <td>0.025235</td>\n",
       "      <td>122.540001</td>\n",
       "      <td>122.431499</td>\n",
       "      <td>129.2806</td>\n",
       "      <td>3.270000</td>\n",
       "      <td>122.228999</td>\n",
       "      <td>122.431499</td>\n",
       "      <td>2.048910</td>\n",
       "    </tr>\n",
       "    <tr>\n",
       "      <th>...</th>\n",
       "      <td>...</td>\n",
       "      <td>...</td>\n",
       "      <td>...</td>\n",
       "      <td>...</td>\n",
       "      <td>...</td>\n",
       "      <td>...</td>\n",
       "      <td>...</td>\n",
       "      <td>...</td>\n",
       "      <td>...</td>\n",
       "      <td>...</td>\n",
       "      <td>...</td>\n",
       "      <td>...</td>\n",
       "      <td>...</td>\n",
       "      <td>...</td>\n",
       "      <td>...</td>\n",
       "      <td>...</td>\n",
       "      <td>...</td>\n",
       "      <td>...</td>\n",
       "      <td>...</td>\n",
       "      <td>...</td>\n",
       "    </tr>\n",
       "    <tr>\n",
       "      <th>75294</th>\n",
       "      <td>2023-12-21</td>\n",
       "      <td>101.470001</td>\n",
       "      <td>102.010002</td>\n",
       "      <td>100.809998</td>\n",
       "      <td>101.730003</td>\n",
       "      <td>99.981171</td>\n",
       "      <td>19250900</td>\n",
       "      <td>XOM</td>\n",
       "      <td>46.017718</td>\n",
       "      <td>1</td>\n",
       "      <td>44.951870</td>\n",
       "      <td>0.004542</td>\n",
       "      <td>0.011866</td>\n",
       "      <td>101.910004</td>\n",
       "      <td>101.358000</td>\n",
       "      <td>104.5726</td>\n",
       "      <td>1.710715</td>\n",
       "      <td>100.626001</td>\n",
       "      <td>101.358000</td>\n",
       "      <td>1.526500</td>\n",
       "    </tr>\n",
       "    <tr>\n",
       "      <th>75295</th>\n",
       "      <td>2023-12-22</td>\n",
       "      <td>102.309998</td>\n",
       "      <td>102.940002</td>\n",
       "      <td>101.820000</td>\n",
       "      <td>101.910004</td>\n",
       "      <td>100.158081</td>\n",
       "      <td>12921800</td>\n",
       "      <td>XOM</td>\n",
       "      <td>48.316074</td>\n",
       "      <td>1</td>\n",
       "      <td>46.829265</td>\n",
       "      <td>0.001769</td>\n",
       "      <td>0.011790</td>\n",
       "      <td>102.139999</td>\n",
       "      <td>101.225000</td>\n",
       "      <td>104.4814</td>\n",
       "      <td>1.664286</td>\n",
       "      <td>100.862001</td>\n",
       "      <td>101.225000</td>\n",
       "      <td>1.524094</td>\n",
       "    </tr>\n",
       "    <tr>\n",
       "      <th>75296</th>\n",
       "      <td>2023-12-26</td>\n",
       "      <td>102.739998</td>\n",
       "      <td>103.029999</td>\n",
       "      <td>102.120003</td>\n",
       "      <td>102.139999</td>\n",
       "      <td>100.384117</td>\n",
       "      <td>16835100</td>\n",
       "      <td>XOM</td>\n",
       "      <td>56.213436</td>\n",
       "      <td>1</td>\n",
       "      <td>49.622605</td>\n",
       "      <td>0.002257</td>\n",
       "      <td>0.011762</td>\n",
       "      <td>101.660004</td>\n",
       "      <td>101.134000</td>\n",
       "      <td>104.3268</td>\n",
       "      <td>1.582858</td>\n",
       "      <td>101.114001</td>\n",
       "      <td>101.134000</td>\n",
       "      <td>1.504121</td>\n",
       "    </tr>\n",
       "    <tr>\n",
       "      <th>75297</th>\n",
       "      <td>2023-12-27</td>\n",
       "      <td>102.040001</td>\n",
       "      <td>102.550003</td>\n",
       "      <td>101.339996</td>\n",
       "      <td>101.660004</td>\n",
       "      <td>99.912376</td>\n",
       "      <td>14558800</td>\n",
       "      <td>XOM</td>\n",
       "      <td>59.937657</td>\n",
       "      <td>1</td>\n",
       "      <td>51.155272</td>\n",
       "      <td>-0.004699</td>\n",
       "      <td>0.011794</td>\n",
       "      <td>100.190002</td>\n",
       "      <td>101.022001</td>\n",
       "      <td>104.1610</td>\n",
       "      <td>1.499287</td>\n",
       "      <td>101.475001</td>\n",
       "      <td>101.022001</td>\n",
       "      <td>1.052418</td>\n",
       "    </tr>\n",
       "    <tr>\n",
       "      <th>75298</th>\n",
       "      <td>2023-12-28</td>\n",
       "      <td>101.389999</td>\n",
       "      <td>101.610001</td>\n",
       "      <td>100.129997</td>\n",
       "      <td>100.190002</td>\n",
       "      <td>98.467651</td>\n",
       "      <td>16329300</td>\n",
       "      <td>XOM</td>\n",
       "      <td>56.502587</td>\n",
       "      <td>0</td>\n",
       "      <td>53.397494</td>\n",
       "      <td>-0.014460</td>\n",
       "      <td>0.011760</td>\n",
       "      <td>99.980003</td>\n",
       "      <td>100.914501</td>\n",
       "      <td>103.9370</td>\n",
       "      <td>1.408573</td>\n",
       "      <td>101.602001</td>\n",
       "      <td>100.914501</td>\n",
       "      <td>0.740131</td>\n",
       "    </tr>\n",
       "  </tbody>\n",
       "</table>\n",
       "<p>70300 rows × 20 columns</p>\n",
       "</div>"
      ],
      "text/plain": [
       "            Date        Open        High         Low       Close   Adj Close  \\\n",
       "49    2021-03-16  125.699997  127.220001  124.720001  125.570000  123.250519   \n",
       "50    2021-03-17  124.050003  125.860001  122.339996  124.760002  122.455498   \n",
       "51    2021-03-18  122.879997  123.180000  120.320000  120.529999  118.303612   \n",
       "52    2021-03-19  119.900002  121.430000  119.680000  119.989998  117.773598   \n",
       "53    2021-03-22  120.330002  123.870003  120.260002  123.389999  121.110809   \n",
       "...          ...         ...         ...         ...         ...         ...   \n",
       "75294 2023-12-21  101.470001  102.010002  100.809998  101.730003   99.981171   \n",
       "75295 2023-12-22  102.309998  102.940002  101.820000  101.910004  100.158081   \n",
       "75296 2023-12-26  102.739998  103.029999  102.120003  102.139999  100.384117   \n",
       "75297 2023-12-27  102.040001  102.550003  101.339996  101.660004   99.912376   \n",
       "75298 2023-12-28  101.389999  101.610001  100.129997  100.190002   98.467651   \n",
       "\n",
       "          Volume Ticker        RSI  RSI_Direction    RSI_MA5  Daily_Returns  \\\n",
       "49     115227900   AAPL  50.286013              1  43.284378       0.012743   \n",
       "50     111932600   AAPL  55.399607              1  47.090555      -0.006451   \n",
       "51     121229700   AAPL  49.060968              0  49.011520      -0.033905   \n",
       "52     185549500   AAPL  38.138678              0  48.076919      -0.004480   \n",
       "53     111912300   AAPL  47.426356              1  48.062324       0.028336   \n",
       "...          ...    ...        ...            ...        ...            ...   \n",
       "75294   19250900    XOM  46.017718              1  44.951870       0.004542   \n",
       "75295   12921800    XOM  48.316074              1  46.829265       0.001769   \n",
       "75296   16835100    XOM  56.213436              1  49.622605       0.002257   \n",
       "75297   14558800    XOM  59.937657              1  51.155272      -0.004699   \n",
       "75298   16329300    XOM  56.502587              0  53.397494      -0.014460   \n",
       "\n",
       "       Hist_Vol_20d   NextClose        MA20      MA50       ADR  Close_MA10  \\\n",
       "49         0.024312  124.760002  123.818999  129.8660  3.747142  121.358999   \n",
       "50         0.024076  120.529999  123.515000  129.7730  3.575714  121.628999   \n",
       "51         0.025079  119.989998  123.055999  129.5634  3.519285  121.668999   \n",
       "52         0.025057  123.389999  122.562000  129.4312  3.277143  121.525999   \n",
       "53         0.025235  122.540001  122.431499  129.2806  3.270000  122.228999   \n",
       "...             ...         ...         ...       ...       ...         ...   \n",
       "75294      0.011866  101.910004  101.358000  104.5726  1.710715  100.626001   \n",
       "75295      0.011790  102.139999  101.225000  104.4814  1.664286  100.862001   \n",
       "75296      0.011762  101.660004  101.134000  104.3268  1.582858  101.114001   \n",
       "75297      0.011794  100.190002  101.022001  104.1610  1.499287  101.475001   \n",
       "75298      0.011760   99.980003  100.914501  103.9370  1.408573  101.602001   \n",
       "\n",
       "       Close_MA20  Close_std10  \n",
       "49     123.818999     2.451613  \n",
       "50     123.515000     2.675819  \n",
       "51     123.055999     2.653821  \n",
       "52     122.562000     2.706729  \n",
       "53     122.431499     2.048910  \n",
       "...           ...          ...  \n",
       "75294  101.358000     1.526500  \n",
       "75295  101.225000     1.524094  \n",
       "75296  101.134000     1.504121  \n",
       "75297  101.022001     1.052418  \n",
       "75298  100.914501     0.740131  \n",
       "\n",
       "[70300 rows x 20 columns]"
      ]
     },
     "execution_count": 117,
     "metadata": {},
     "output_type": "execute_result"
    }
   ],
   "source": [
    "final_df"
   ]
  },
  {
   "cell_type": "code",
   "execution_count": 118,
   "id": "b9ea0172",
   "metadata": {},
   "outputs": [],
   "source": [
    "# Define features and target\n",
    "X = final_df[['RSI','RSI_Direction','MA20']]\n",
    "y = final_df['NextClose']"
   ]
  },
  {
   "cell_type": "code",
   "execution_count": 119,
   "id": "2c59517c",
   "metadata": {},
   "outputs": [
    {
     "data": {
      "text/plain": [
       "LinearRegression()"
      ]
     },
     "execution_count": 119,
     "metadata": {},
     "output_type": "execute_result"
    }
   ],
   "source": [
    "from sklearn.linear_model import LinearRegression\n",
    "from sklearn.metrics import r2_score\n",
    "\n",
    "# Split the data\n",
    "X_train, X_test, y_train, y_test = train_test_split(X, y, test_size=0.2, random_state=0)\n",
    "\n",
    "# Initialize and train the model\n",
    "model = LinearRegression()\n",
    "model.fit(X_train, y_train)"
   ]
  },
  {
   "cell_type": "code",
   "execution_count": 120,
   "id": "e6358988",
   "metadata": {},
   "outputs": [
    {
     "name": "stdout",
     "output_type": "stream",
     "text": [
      "Adjusted R-squared: 0.9971472518593774\n"
     ]
    }
   ],
   "source": [
    "# Predict and evaluate\n",
    "y_pred = model.predict(X_test)\n",
    "adj_r2 = adjusted_r_squared(X_test, y_test, y_pred)\n",
    "print(f'Adjusted R-squared: {adj_r2}')"
   ]
  },
  {
   "cell_type": "markdown",
   "id": "3a6aaa81",
   "metadata": {},
   "source": [
    "In this model, i have used RSI,RSI_DIRETION and MA_20 to calculate the R2. An Adjusted R-squared: 0.9971453649160745 is highly encouraging . This high value suggests that the model fits the training data very closely. equires careful interpretation and validation to ensure the model's effectiveness and reliability in practical applications."
   ]
  },
  {
   "cell_type": "markdown",
   "id": "ec169e61",
   "metadata": {},
   "source": [
    "#### Q7. How can investors use these predictions in their investment strategy?"
   ]
  },
  {
   "cell_type": "markdown",
   "id": "789c2d87",
   "metadata": {},
   "source": [
    "Using Predictions with R² of .99\n",
    "High Confidence Trading Strategies: An R² value of .99 suggests that the model's predictions are highly accurate in explaining the variance in stock prices. Investors might use such models to pursue more aggressive trading strategies, given the high level of confidence in the predictions.\n",
    "\n",
    "Portfolio Diversification: While a model with a high R² might be compelling for certain stocks or sectors, investors should use these predictions as part of a broader, diversified investment strategy to mitigate systemic risks not captured by the model.\n",
    "\n",
    "Dynamic Allocation: With high confidence in stock price predictions, investors can dynamically adjust their portfolio allocations to optimize returns. For example, increasing exposure to stocks or sectors the model predicts will perform well and reducing exposure to those expected to underperform.\n",
    "\n",
    "Investors can leverage predictive models to enhance their investment strategies, but it's essential to understand the limitations and assumptions underlying these models. Incorporating model predictions should always be done within the framework of comprehensive risk management and investment analysis to navigate the complexities of financial markets effectively."
   ]
  },
  {
   "cell_type": "markdown",
   "id": "6db40f87",
   "metadata": {},
   "source": [
    "#### Q8.How frequently does the model need retraining?"
   ]
  },
  {
   "cell_type": "markdown",
   "id": "a05bdcc2",
   "metadata": {},
   "source": [
    "The frequency at which a predictive model needs retraining depends on several factors related to the model's performance, the stability of the underlying data patterns, and the dynamism of the environment in which the model is deployed. Here are key considerations to determine the optimal retraining frequency:\n",
    "\n",
    "\n",
    "Degradation Over Time: If the model's predictive accuracy starts to decline over time, as indicated by monitoring metrics such as RMSE, MAE, or R² in real-world applications, it may signal the need for retraining.\n",
    "\n",
    "Changing Market Conditions: Financial markets are influenced by a wide array of factors, including economic indicators, interest rates, geopolitical events, and investor sentiment. A model trained during a bull market may not perform well in a bear market, necessitating retraining to adapt to new conditions.\n",
    "\n",
    "New Data: The availability of new data, especially if it includes information not previously captured in the model, can provide an opportunity to improve the model's predictive power through retraining.\n",
    "    \n"
   ]
  },
  {
   "cell_type": "markdown",
   "id": "ef3995dd",
   "metadata": {},
   "source": [
    "#### Q9: Implement backtesting for a trading strategy that uses the Relative Strength Index (RSI) as a signal for entering and exiting trades, along with calculating Adjusted R-squared"
   ]
  },
  {
   "cell_type": "code",
   "execution_count": 121,
   "id": "15f2fd33",
   "metadata": {},
   "outputs": [],
   "source": [
    "def calculate_RSI_4(data, period=4):\n",
    "    delta = data['Close'].diff()\n",
    "    gain = (delta.where(delta > 0, 0)).rolling(window=period).mean()\n",
    "    loss = (-delta.where(delta < 0, 0)).rolling(window=period).mean()\n",
    "\n",
    "    RS = gain / loss\n",
    "    RSI = 100 - (100 / (1 + RS))\n",
    "    return RSI"
   ]
  },
  {
   "cell_type": "code",
   "execution_count": 122,
   "id": "c40baddd",
   "metadata": {},
   "outputs": [
    {
     "name": "stderr",
     "output_type": "stream",
     "text": [
      "[*********************100%%**********************]  1 of 1 completed\n"
     ]
    }
   ],
   "source": [
    "import numpy as np\n",
    "import pandas as pd\n",
    "import yfinance as yf\n",
    "\n",
    "# Fetch data\n",
    "data = yf.download('AAPL', start='2019-01-01', end='2024-01-01')\n",
    "data['Change'] = data['Close'].diff()\n",
    "data['Gain'] = np.where(data['Change'] > 0, data['Change'], 0)\n",
    "data['Loss'] = np.where(data['Change'] < 0, -data['Change'], 0)\n",
    "\n",
    "# Calculate average gain and loss\n",
    "window = 4\n",
    "data['Avg Gain'] = data['Gain'].rolling(window=window).mean()\n",
    "data['Avg Loss'] = data['Loss'].rolling(window=window).mean()\n",
    "\n",
    "# Calculate RSI\n",
    "data['RS'] = data['Avg Gain'] / data['Avg Loss']\n",
    "data['RSI'] = 100 - (100 / (1 + data['RS']))\n",
    "\n",
    "# Drop initial NaN values\n",
    "data.dropna(inplace=True)\n"
   ]
  },
  {
   "cell_type": "code",
   "execution_count": 123,
   "id": "6eca4054",
   "metadata": {},
   "outputs": [],
   "source": [
    "# Entry signal (RSI < 15)\n",
    "data['Entry'] = data['RSI'] < 15\n",
    "\n",
    "# Exit signal (RSI > 50)\n",
    "data['Exit'] = data['RSI'] > 50\n"
   ]
  },
  {
   "cell_type": "code",
   "execution_count": 124,
   "id": "89cf54b8",
   "metadata": {},
   "outputs": [],
   "source": [
    "# Assuming starting with $1000\n",
    "initial_capital = 1000\n",
    "capital = initial_capital\n",
    "position = 0  # No position initially\n",
    "\n",
    "for i in range(1, len(data)):\n",
    "    # Check entry signal and if not already in position\n",
    "    if data['Entry'].iloc[i] and position == 0:\n",
    "        position = 1  # Take a long position\n",
    "        entry_price = data['Close'].iloc[i]\n",
    "        capital -= entry_price  # Deduct the purchase price from capital\n",
    "    \n",
    "    # Check exit signal and if in position\n",
    "    if data['Exit'].iloc[i] and position == 1:\n",
    "        position = 0  # Exit position\n",
    "        exit_price = data['Close'].iloc[i]\n",
    "        capital += exit_price  # Add the selling price to capital\n",
    "\n",
    "# Calculate final returns\n",
    "final_returns = capital - initial_capital\n"
   ]
  },
  {
   "cell_type": "code",
   "execution_count": 125,
   "id": "2889a168",
   "metadata": {},
   "outputs": [
    {
     "name": "stdout",
     "output_type": "stream",
     "text": [
      "877.0899848937988\n"
     ]
    }
   ],
   "source": [
    "print(capital)"
   ]
  },
  {
   "cell_type": "code",
   "execution_count": 126,
   "id": "cce3ed72",
   "metadata": {},
   "outputs": [],
   "source": [
    "# Calculate daily high-low range\n",
    "data['Daily Range'] = data['High'] - data['Low']\n",
    "\n",
    "# Calculate ADR for the past 14 days\n",
    "window_adr = 14\n",
    "data['ADR'] = data['Daily Range'].rolling(window=window_adr).mean()\n"
   ]
  },
  {
   "cell_type": "code",
   "execution_count": 127,
   "id": "1e72e9e0",
   "metadata": {},
   "outputs": [],
   "source": [
    "initial_capital = 1000\n",
    "capital = initial_capital\n",
    "position = 0  # No position initially\n",
    "\n",
    "# Track position entry for stop loss calculation\n",
    "entry_index = None\n",
    "\n",
    "for i in range(1, len(data)):\n",
    "    # Calculate stop loss if in position\n",
    "    if position == 1:\n",
    "        stop_loss_level = data['Open'].iloc[i] - 3 * data['ADR'].iloc[entry_index]\n",
    "        # Check if stop loss is triggered\n",
    "        if data['Low'].iloc[i] <= stop_loss_level:\n",
    "            # Assume exit at stop loss level\n",
    "            capital += stop_loss_level\n",
    "            position = 0\n",
    "            continue\n",
    "    \n",
    "    # Check entry signal and if not already in position\n",
    "    if data['Entry'].iloc[i] and position == 0:\n",
    "        position = 1  # Take a long position\n",
    "        entry_price = data['Close'].iloc[i]\n",
    "        capital -= entry_price  # Deduct the purchase price from capital\n",
    "        entry_index = i  # Update entry index for stop loss calculation\n",
    "    \n",
    "    # Check exit signal and if in position\n",
    "    if data['Exit'].iloc[i] and position == 1:\n",
    "        position = 0  # Exit position\n",
    "        exit_price = data['Close'].iloc[i]\n",
    "        capital += exit_price  # Add the selling price to capital\n",
    "        entry_index = None  # Reset entry index\n",
    "\n",
    "# Calculate final returns\n",
    "final_returns = capital - initial_capital\n"
   ]
  },
  {
   "cell_type": "code",
   "execution_count": 128,
   "id": "c14a8e5e",
   "metadata": {},
   "outputs": [
    {
     "name": "stdout",
     "output_type": "stream",
     "text": [
      "877.0899848937988\n"
     ]
    }
   ],
   "source": [
    "print(capital)"
   ]
  },
  {
   "cell_type": "markdown",
   "id": "2021f28e",
   "metadata": {},
   "source": [
    "#### Q9 : Use Random Forest Regressor to create the predictive model and Use RSI or MA as features."
   ]
  },
  {
   "cell_type": "markdown",
   "id": "2c6fb0e0",
   "metadata": {},
   "source": [
    "Advantages: Handles overfitting well, can model complex interactions between features, and provides feature importance scores.\n",
    "\n",
    "Use Case: Utilize RSI and MA as features to capture both momentum and trend-following aspects, which can be crucial for predicting stock price movements."
   ]
  },
  {
   "cell_type": "code",
   "execution_count": 129,
   "id": "1d9920ab",
   "metadata": {},
   "outputs": [],
   "source": [
    "## Create the Dataset for last 3 years\n",
    "\n",
    "df = DF_Cleansing('2021-01-01','2024-01-01')\n",
    "final_df = Add_new_columns(df)\n"
   ]
  },
  {
   "cell_type": "code",
   "execution_count": 130,
   "id": "dc2ba1ae",
   "metadata": {},
   "outputs": [],
   "source": [
    "# Define features and target\n",
    "X = final_df[['RSI','RSI_Direction','MA20']]\n",
    "y = final_df['NextClose']"
   ]
  },
  {
   "cell_type": "code",
   "execution_count": 131,
   "id": "11caf8e6",
   "metadata": {},
   "outputs": [],
   "source": [
    "X_train, X_test, y_train, y_test = train_test_split(X, y, test_size=0.2, random_state=42)\n"
   ]
  },
  {
   "cell_type": "code",
   "execution_count": 132,
   "id": "d0d2503b",
   "metadata": {},
   "outputs": [
    {
     "data": {
      "text/plain": [
       "RandomForestRegressor(random_state=42)"
      ]
     },
     "execution_count": 132,
     "metadata": {},
     "output_type": "execute_result"
    }
   ],
   "source": [
    "## Train the model\n",
    "\n",
    "from sklearn.ensemble import RandomForestRegressor\n",
    "\n",
    "# Initialize and train the model\n",
    "model = RandomForestRegressor(n_estimators=100, random_state=42)\n",
    "model.fit(X_train, y_train)\n"
   ]
  },
  {
   "cell_type": "code",
   "execution_count": 133,
   "id": "e3fd56c7",
   "metadata": {},
   "outputs": [
    {
     "name": "stdout",
     "output_type": "stream",
     "text": [
      "RMSE: 9.978509398961895\n"
     ]
    }
   ],
   "source": [
    "## Evaluate the model\n",
    "from sklearn.metrics import mean_squared_error\n",
    "\n",
    "# Predict on the test set\n",
    "y_pred = model.predict(X_test)\n",
    "\n",
    "# Calculate RMSE\n",
    "rmse = np.sqrt(mean_squared_error(y_test, y_pred))\n",
    "print(f'RMSE: {rmse}')\n"
   ]
  },
  {
   "cell_type": "code",
   "execution_count": 134,
   "id": "3039be5c",
   "metadata": {},
   "outputs": [
    {
     "name": "stdout",
     "output_type": "stream",
     "text": [
      "R^2: 0.9985336451495739\n"
     ]
    }
   ],
   "source": [
    "from sklearn.metrics import r2_score\n",
    "\n",
    "# Calculate R^2\n",
    "r2 = r2_score(y_test, y_pred)\n",
    "print(f'R^2: {r2}')\n"
   ]
  },
  {
   "cell_type": "markdown",
   "id": "f60bad19",
   "metadata": {},
   "source": [
    "Given the RMSE in the context of stock prices, whether this value is considered high or low depends on the scale of the stock prices being predicted. For high-priced stocks (e.g., stock prices ranging in the hundreds or thousands), an RMSE of approximately 10 might be relatively small and acceptable. However, for lower-priced stocks, this might indicate a larger prediction error relative to the stock price."
   ]
  },
  {
   "cell_type": "markdown",
   "id": "a4c75c48",
   "metadata": {},
   "source": [
    "In this case, an R-square of 0.9985 suggests that the model is highly effective at predicting stock prices based on the given features, leaving very little unexplained variance. This is an exceptionally high value, indicating a very good fit to the historical data."
   ]
  },
  {
   "cell_type": "markdown",
   "id": "7b67e653",
   "metadata": {},
   "source": [
    "#### Q10.What are the computational requirements for implementing this model in real-time?"
   ]
  },
  {
   "cell_type": "markdown",
   "id": "3712a62d",
   "metadata": {},
   "source": [
    "Implementing a predictive model like the Random Forest using RSI and MA as features for real-time stock price predictions involves various computational requirements. These requirements depend on the complexity of the model, the frequency of prediction updates, data volume, and latency constraints. \n",
    "\n",
    "Implementing a predictive model in real-time requires careful planning and optimization across hardware, software, data management, and deployment strategies to ensure the system can handle the computational demands and deliver accurate, timely predictions.\n",
    "\n"
   ]
  },
  {
   "cell_type": "markdown",
   "id": "a6f00c0c",
   "metadata": {},
   "source": [
    "#### Some Vizualization"
   ]
  },
  {
   "cell_type": "code",
   "execution_count": 135,
   "id": "c726f5bc",
   "metadata": {},
   "outputs": [
    {
     "data": {
      "image/png": "[encoded data removed]",
      "text/plain": [
       "<Figure size 864x504 with 1 Axes>"
      ]
     },
     "metadata": {
      "needs_background": "light"
     },
     "output_type": "display_data"
    }
   ],
   "source": [
    "import matplotlib.pyplot as plt\n",
    "import numpy as np\n",
    "\n",
    "# Assuming 'feature_importances_' attribute contains the importance of features\n",
    "# Example feature names and their importance values\n",
    "feature_names = ['RSI', 'RSI_Direction', 'RSI_MA5', 'Hist_Vol_20d', 'Close_MA10', 'Close_MA20', 'Close_std10']\n",
    "feature_importances = np.random.rand(len(feature_names))  # Random values for illustration\n",
    "\n",
    "# Sorting features by importance\n",
    "sorted_idx = np.argsort(feature_importances)\n",
    "pos = np.arange(sorted_idx.shape[0]) + .5\n",
    "\n",
    "# Plotting\n",
    "plt.figure(figsize=(12, 7))\n",
    "plt.barh(pos, feature_importances[sorted_idx], align='center')\n",
    "plt.yticks(pos, np.array(feature_names)[sorted_idx])\n",
    "plt.title('Detailed Feature Importance Chart')\n",
    "plt.xlabel('Relative Importance')\n",
    "plt.ylabel('Features')\n",
    "plt.show()\n"
   ]
  },
  {
   "cell_type": "code",
   "execution_count": 136,
   "id": "c08c231f",
   "metadata": {},
   "outputs": [
    {
     "data": {
      "image/png": "[encoded data removed]",
      "text/plain": [
       "<Figure size 720x432 with 1 Axes>"
      ]
     },
     "metadata": {
      "needs_background": "light"
     },
     "output_type": "display_data"
    }
   ],
   "source": [
    "# we have RMSE values for several models\n",
    "model_names = ['Linear Regression', 'Random Forest', 'Gradient Boosting']\n",
    "RMSE = [7.3, 9.98, 8.97]  # Example MSE values for the models\n",
    "\n",
    "# Plotting\n",
    "plt.figure(figsize=(10, 6))\n",
    "plt.bar(model_names, RMSE, color=['blue', 'green', 'red'])\n",
    "plt.title('Model Performance Comparison (RMSE)')\n",
    "plt.xlabel('Model')\n",
    "plt.ylabel('Root Mean Squared Error (RMSE)')\n",
    "plt.ylim(0, max(RMSE) + 1)  # Adjusting y-axis limit for better visualization\n",
    "plt.show()\n"
   ]
  },
  {
   "cell_type": "code",
   "execution_count": null,
   "id": "fdc60e1a",
   "metadata": {},
   "outputs": [],
   "source": []
  }
 ],
 "metadata": {
  "kernelspec": {
   "display_name": "Python 3 (ipykernel)",
   "language": "python",
   "name": "python3"
  },
  "language_info": {
   "codemirror_mode": {
    "name": "ipython",
    "version": 3
   },
   "file_extension": ".py",
   "mimetype": "text/x-python",
   "name": "python",
   "nbconvert_exporter": "python",
   "pygments_lexer": "ipython3",
   "version": "3.9.12"
  }
 },
 "nbformat": 4,
 "nbformat_minor": 5
}
