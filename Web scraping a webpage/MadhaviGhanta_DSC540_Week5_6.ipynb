{
 "cells": [
  {
   "cell_type": "markdown",
   "id": "cdb59b4d",
   "metadata": {},
   "source": [
    "# Madhavi Ghanta\n",
    "# DSC 540\n",
    "# Week 5_6 Assignment\n"
   ]
  },
  {
   "cell_type": "markdown",
   "id": "d8af5a34",
   "metadata": {},
   "source": [
    "Complete the following exercises. You can submit a Jupyter Notebook or a PDF of your code. If you submit a .py file you need to also include a PDF or attachment of your results.\n",
    "\n",
    "Data Wrangling with Python: Activity 7, page 207\n",
    "\n",
    "Data Wrangling with Python: Activity 8, page 233\n",
    "\n",
    "Insert data into a SQL Lite database – create a table with the following data (Hint: Python for Data Analysis page 191):\n",
    "\n",
    "a. Name, Address, City, State, Zip, Phone Number\n",
    "\n",
    "b. Add at least 10 rows of data and submit your code with a query generating your results.\n",
    "\n",
    "Activity 7: Reading Tabular Data from a Web Page and Creating DataFrames In this activity, you have been given a Wikipedia page where you have the GDP of all countries listed. You have been asked to create three DataFrames from the three sources mentioned in the page (https://en.wikipedia.org/wiki/List_of_countries_by_GDP_(nominal)):\n",
    "\n",
    "Open the page in a separate Chrome/Firefox tab and use something like an Inspect Element tool to view the source HTML and understand its structureimage.png"
   ]
  },
  {
   "cell_type": "code",
   "execution_count": 1,
   "id": "76cfeb74",
   "metadata": {},
   "outputs": [],
   "source": [
    "# Importing all the Python Packages for these 3 excercises\n",
    "\n",
    "from bs4 import BeautifulSoup\n",
    "import pandas as pd\n",
    "\n",
    "# for sqlite DB\n",
    "import sqlite3"
   ]
  },
  {
   "cell_type": "markdown",
   "id": "7cff0013",
   "metadata": {},
   "source": [
    "# Task 1 create a soup with bs4 and load the data to work later on it"
   ]
  },
  {
   "cell_type": "code",
   "execution_count": 2,
   "id": "673f63ed",
   "metadata": {},
   "outputs": [],
   "source": [
    "# used utf8 encoding to open the webpage\n",
    "\n",
    "fd = open(\"List of countries by GDP (nominal) - Wikipedia.htm\", \"r\", encoding='utf8')\n",
    "soup = BeautifulSoup(fd)\n",
    "fd.close()"
   ]
  },
  {
   "cell_type": "markdown",
   "id": "b9e70e1c",
   "metadata": {},
   "source": [
    "# Task 2 How many tables are there?"
   ]
  },
  {
   "cell_type": "code",
   "execution_count": 3,
   "id": "1782256e",
   "metadata": {},
   "outputs": [
    {
     "name": "stdout",
     "output_type": "stream",
     "text": [
      "Total number of tables are 9 \n"
     ]
    }
   ],
   "source": [
    "# by using BeautifulSoup, getting all the tables \n",
    "\n",
    "Get_all_tables = soup.find_all(\"table\")\n",
    "lenghtoftables = len(Get_all_tables)\n",
    "print(\"Total number of tables are {} \".format(lenghtoftables))"
   ]
  },
  {
   "cell_type": "markdown",
   "id": "49a8702d",
   "metadata": {},
   "source": [
    "#  Task 3 find the right table using the class attribute"
   ]
  },
  {
   "cell_type": "code",
   "execution_count": 4,
   "id": "f3e8ba3e",
   "metadata": {},
   "outputs": [
    {
     "name": "stdout",
     "output_type": "stream",
     "text": [
      "<class 'bs4.element.Tag'>\n"
     ]
    }
   ],
   "source": [
    "data_table = soup.find(\"table\", {\"class\": '\"wikitable\"|}'})\n",
    "print(type(data_table))"
   ]
  },
  {
   "cell_type": "markdown",
   "id": "c017ef9a",
   "metadata": {},
   "source": [
    "\n",
    "# Task 4 Let's separate the source and the actual data"
   ]
  },
  {
   "cell_type": "code",
   "execution_count": 5,
   "id": "b0022604",
   "metadata": {},
   "outputs": [
    {
     "name": "stdout",
     "output_type": "stream",
     "text": [
      "3\n"
     ]
    }
   ],
   "source": [
    "sources = data_table.tbody.findAll('tr', recursive=False)[0]\n",
    "sources_list = [td for td in sources.findAll('td')]\n",
    "print(len(sources_list))"
   ]
  },
  {
   "cell_type": "code",
   "execution_count": 6,
   "id": "01deddb6",
   "metadata": {},
   "outputs": [],
   "source": [
    "data = data_table.tbody.findAll('tr', recursive=False)[1].findAll('td', recursive=False)"
   ]
  },
  {
   "cell_type": "code",
   "execution_count": 7,
   "id": "54d772c8",
   "metadata": {},
   "outputs": [],
   "source": [
    "data_tables = []\n",
    "for td in data:\n",
    "    data_tables.append(td.findAll('table'))"
   ]
  },
  {
   "cell_type": "code",
   "execution_count": 8,
   "id": "0f07b753",
   "metadata": {},
   "outputs": [
    {
     "data": {
      "text/plain": [
       "3"
      ]
     },
     "execution_count": 8,
     "metadata": {},
     "output_type": "execute_result"
    }
   ],
   "source": [
    "len(data_tables)"
   ]
  },
  {
   "cell_type": "markdown",
   "id": "14815146",
   "metadata": {},
   "source": [
    "# Task 5 Checking how to get the source names"
   ]
  },
  {
   "cell_type": "code",
   "execution_count": 9,
   "id": "2f66936b",
   "metadata": {},
   "outputs": [
    {
     "name": "stdout",
     "output_type": "stream",
     "text": [
      "['International Monetary Fund', 'World Bank', 'United Nations']\n"
     ]
    }
   ],
   "source": [
    "source_names = [source.findAll('a')[0].getText() for source in sources_list]\n",
    "print(source_names)"
   ]
  },
  {
   "cell_type": "markdown",
   "id": "5349b288",
   "metadata": {},
   "source": [
    "# Task 6 Seperate the header and data for the first source"
   ]
  },
  {
   "cell_type": "code",
   "execution_count": 10,
   "id": "9cc192c3",
   "metadata": {},
   "outputs": [
    {
     "data": {
      "text/plain": [
       "['Rank', 'Country', 'GDP(US$MM)']"
      ]
     },
     "execution_count": 10,
     "metadata": {},
     "output_type": "execute_result"
    }
   ],
   "source": [
    "header1 = [th.getText().strip() for th in data_tables[0][0].findAll('thead')[0].findAll('th')]\n",
    "header1"
   ]
  },
  {
   "cell_type": "code",
   "execution_count": 11,
   "id": "7fe2b5a1",
   "metadata": {},
   "outputs": [],
   "source": [
    "rows1 = data_tables[0][0].findAll('tbody')[0].findAll('tr')[1:]"
   ]
  },
  {
   "cell_type": "code",
   "execution_count": 12,
   "id": "4aba5dac",
   "metadata": {},
   "outputs": [],
   "source": [
    "data_rows1 = [[td.get_text().strip() for td in tr.findAll('td')] for tr in rows1]"
   ]
  },
  {
   "cell_type": "code",
   "execution_count": 13,
   "id": "1040d6a3",
   "metadata": {},
   "outputs": [],
   "source": [
    "df1 = pd.DataFrame(data_rows1, columns=header1)"
   ]
  },
  {
   "cell_type": "code",
   "execution_count": 14,
   "id": "aa808364",
   "metadata": {},
   "outputs": [
    {
     "data": {
      "text/html": [
       "<div>\n",
       "<style scoped>\n",
       "    .dataframe tbody tr th:only-of-type {\n",
       "        vertical-align: middle;\n",
       "    }\n",
       "\n",
       "    .dataframe tbody tr th {\n",
       "        vertical-align: top;\n",
       "    }\n",
       "\n",
       "    .dataframe thead th {\n",
       "        text-align: right;\n",
       "    }\n",
       "</style>\n",
       "<table border=\"1\" class=\"dataframe\">\n",
       "  <thead>\n",
       "    <tr style=\"text-align: right;\">\n",
       "      <th></th>\n",
       "      <th>Rank</th>\n",
       "      <th>Country</th>\n",
       "      <th>GDP(US$MM)</th>\n",
       "    </tr>\n",
       "  </thead>\n",
       "  <tbody>\n",
       "    <tr>\n",
       "      <th>0</th>\n",
       "      <td>1</td>\n",
       "      <td>United States</td>\n",
       "      <td>19,390,600</td>\n",
       "    </tr>\n",
       "    <tr>\n",
       "      <th>1</th>\n",
       "      <td>2</td>\n",
       "      <td>China[n 1]</td>\n",
       "      <td>12,014,610</td>\n",
       "    </tr>\n",
       "    <tr>\n",
       "      <th>2</th>\n",
       "      <td>3</td>\n",
       "      <td>Japan</td>\n",
       "      <td>4,872,135</td>\n",
       "    </tr>\n",
       "    <tr>\n",
       "      <th>3</th>\n",
       "      <td>4</td>\n",
       "      <td>Germany</td>\n",
       "      <td>3,684,816</td>\n",
       "    </tr>\n",
       "    <tr>\n",
       "      <th>4</th>\n",
       "      <td>5</td>\n",
       "      <td>United Kingdom</td>\n",
       "      <td>2,624,529</td>\n",
       "    </tr>\n",
       "  </tbody>\n",
       "</table>\n",
       "</div>"
      ],
      "text/plain": [
       "  Rank         Country  GDP(US$MM)\n",
       "0    1   United States  19,390,600\n",
       "1    2      China[n 1]  12,014,610\n",
       "2    3           Japan   4,872,135\n",
       "3    4         Germany   3,684,816\n",
       "4    5  United Kingdom   2,624,529"
      ]
     },
     "execution_count": 14,
     "metadata": {},
     "output_type": "execute_result"
    }
   ],
   "source": [
    "df1.head()"
   ]
  },
  {
   "cell_type": "markdown",
   "id": "c6c38bdb",
   "metadata": {},
   "source": [
    "# Task 7 Do the same for the other two sources"
   ]
  },
  {
   "cell_type": "code",
   "execution_count": 15,
   "id": "8a9401ff",
   "metadata": {},
   "outputs": [
    {
     "data": {
      "text/plain": [
       "['Rank', 'Country', 'GDP(US$MM)']"
      ]
     },
     "execution_count": 15,
     "metadata": {},
     "output_type": "execute_result"
    }
   ],
   "source": [
    "header2 = [th.getText().strip() for th in data_tables[1][0].findAll('thead')[0].findAll('th')]\n",
    "header2"
   ]
  },
  {
   "cell_type": "code",
   "execution_count": 16,
   "id": "e92f3e65",
   "metadata": {},
   "outputs": [],
   "source": [
    "rows2 = data_tables[1][0].findAll('tbody')[0].findAll('tr')[1:]"
   ]
  },
  {
   "cell_type": "code",
   "execution_count": 17,
   "id": "34b4243f",
   "metadata": {},
   "outputs": [],
   "source": [
    "def find_right_text(i, td):\n",
    "    if i == 0:\n",
    "        return td.getText().strip()\n",
    "    elif i == 1:\n",
    "        return td.getText().strip()\n",
    "    else:\n",
    "        index = td.text.find(\"♠\")\n",
    "        return td.text[index+1:].strip()"
   ]
  },
  {
   "cell_type": "code",
   "execution_count": 18,
   "id": "d68d2550",
   "metadata": {},
   "outputs": [],
   "source": [
    "data_rows2 = [[find_right_text(i, td) for i, td in enumerate(tr.findAll('td'))] for tr in rows2]"
   ]
  },
  {
   "cell_type": "code",
   "execution_count": 19,
   "id": "3a192408",
   "metadata": {},
   "outputs": [],
   "source": [
    "df2 = pd.DataFrame(data_rows2, columns=header2)"
   ]
  },
  {
   "cell_type": "code",
   "execution_count": 20,
   "id": "de5b62ae",
   "metadata": {},
   "outputs": [
    {
     "data": {
      "text/html": [
       "<div>\n",
       "<style scoped>\n",
       "    .dataframe tbody tr th:only-of-type {\n",
       "        vertical-align: middle;\n",
       "    }\n",
       "\n",
       "    .dataframe tbody tr th {\n",
       "        vertical-align: top;\n",
       "    }\n",
       "\n",
       "    .dataframe thead th {\n",
       "        text-align: right;\n",
       "    }\n",
       "</style>\n",
       "<table border=\"1\" class=\"dataframe\">\n",
       "  <thead>\n",
       "    <tr style=\"text-align: right;\">\n",
       "      <th></th>\n",
       "      <th>Rank</th>\n",
       "      <th>Country</th>\n",
       "      <th>GDP(US$MM)</th>\n",
       "    </tr>\n",
       "  </thead>\n",
       "  <tbody>\n",
       "    <tr>\n",
       "      <th>0</th>\n",
       "      <td>1</td>\n",
       "      <td>United States</td>\n",
       "      <td>19,390,604</td>\n",
       "    </tr>\n",
       "    <tr>\n",
       "      <th>1</th>\n",
       "      <td></td>\n",
       "      <td>European Union[23]</td>\n",
       "      <td>17,277,698</td>\n",
       "    </tr>\n",
       "    <tr>\n",
       "      <th>2</th>\n",
       "      <td>2</td>\n",
       "      <td>China[n 4]</td>\n",
       "      <td>12,237,700</td>\n",
       "    </tr>\n",
       "    <tr>\n",
       "      <th>3</th>\n",
       "      <td>3</td>\n",
       "      <td>Japan</td>\n",
       "      <td>4,872,137</td>\n",
       "    </tr>\n",
       "    <tr>\n",
       "      <th>4</th>\n",
       "      <td>4</td>\n",
       "      <td>Germany</td>\n",
       "      <td>3,677,439</td>\n",
       "    </tr>\n",
       "  </tbody>\n",
       "</table>\n",
       "</div>"
      ],
      "text/plain": [
       "  Rank             Country  GDP(US$MM)\n",
       "0    1       United States  19,390,604\n",
       "1       European Union[23]  17,277,698\n",
       "2    2          China[n 4]  12,237,700\n",
       "3    3               Japan   4,872,137\n",
       "4    4             Germany   3,677,439"
      ]
     },
     "execution_count": 20,
     "metadata": {},
     "output_type": "execute_result"
    }
   ],
   "source": [
    "df2.head()"
   ]
  },
  {
   "cell_type": "code",
   "execution_count": 21,
   "id": "2a85edc2",
   "metadata": {},
   "outputs": [
    {
     "data": {
      "text/plain": [
       "['Rank', 'Country', 'GDP(US$MM)']"
      ]
     },
     "execution_count": 21,
     "metadata": {},
     "output_type": "execute_result"
    }
   ],
   "source": [
    "# Now for the third one\n",
    "header3 = [th.getText().strip() for th in data_tables[2][0].findAll('thead')[0].findAll('th')]\n",
    "header3"
   ]
  },
  {
   "cell_type": "code",
   "execution_count": 22,
   "id": "1059b73f",
   "metadata": {},
   "outputs": [],
   "source": [
    "rows3 = data_tables[2][0].findAll('tbody')[0].findAll('tr')[1:]"
   ]
  },
  {
   "cell_type": "code",
   "execution_count": 23,
   "id": "3c71d0dd",
   "metadata": {},
   "outputs": [],
   "source": [
    "data_rows3 = [[find_right_text(i, td) for i, td in enumerate(tr.findAll('td'))] for tr in rows2]"
   ]
  },
  {
   "cell_type": "code",
   "execution_count": 24,
   "id": "71b8b59d",
   "metadata": {},
   "outputs": [
    {
     "data": {
      "text/html": [
       "<div>\n",
       "<style scoped>\n",
       "    .dataframe tbody tr th:only-of-type {\n",
       "        vertical-align: middle;\n",
       "    }\n",
       "\n",
       "    .dataframe tbody tr th {\n",
       "        vertical-align: top;\n",
       "    }\n",
       "\n",
       "    .dataframe thead th {\n",
       "        text-align: right;\n",
       "    }\n",
       "</style>\n",
       "<table border=\"1\" class=\"dataframe\">\n",
       "  <thead>\n",
       "    <tr style=\"text-align: right;\">\n",
       "      <th></th>\n",
       "      <th>Rank</th>\n",
       "      <th>Country</th>\n",
       "      <th>GDP(US$MM)</th>\n",
       "    </tr>\n",
       "  </thead>\n",
       "  <tbody>\n",
       "    <tr>\n",
       "      <th>0</th>\n",
       "      <td>1</td>\n",
       "      <td>United States</td>\n",
       "      <td>19,390,604</td>\n",
       "    </tr>\n",
       "    <tr>\n",
       "      <th>1</th>\n",
       "      <td></td>\n",
       "      <td>European Union[23]</td>\n",
       "      <td>17,277,698</td>\n",
       "    </tr>\n",
       "    <tr>\n",
       "      <th>2</th>\n",
       "      <td>2</td>\n",
       "      <td>China[n 4]</td>\n",
       "      <td>12,237,700</td>\n",
       "    </tr>\n",
       "    <tr>\n",
       "      <th>3</th>\n",
       "      <td>3</td>\n",
       "      <td>Japan</td>\n",
       "      <td>4,872,137</td>\n",
       "    </tr>\n",
       "    <tr>\n",
       "      <th>4</th>\n",
       "      <td>4</td>\n",
       "      <td>Germany</td>\n",
       "      <td>3,677,439</td>\n",
       "    </tr>\n",
       "  </tbody>\n",
       "</table>\n",
       "</div>"
      ],
      "text/plain": [
       "  Rank             Country  GDP(US$MM)\n",
       "0    1       United States  19,390,604\n",
       "1       European Union[23]  17,277,698\n",
       "2    2          China[n 4]  12,237,700\n",
       "3    3               Japan   4,872,137\n",
       "4    4             Germany   3,677,439"
      ]
     },
     "execution_count": 24,
     "metadata": {},
     "output_type": "execute_result"
    }
   ],
   "source": [
    "df3 = pd.DataFrame(data_rows3, columns=header3)\n",
    "df3.head()"
   ]
  },
  {
   "cell_type": "markdown",
   "id": "e27183e8",
   "metadata": {},
   "source": [
    "# Data Wrangling with Python: Activity 8"
   ]
  },
  {
   "cell_type": "code",
   "execution_count": 25,
   "id": "8499541c",
   "metadata": {},
   "outputs": [],
   "source": [
    "import pandas as pd\n",
    "import numpy as np\n",
    "import matplotlib.pyplot as plt\n",
    "\n",
    "%matplotlib inline"
   ]
  },
  {
   "cell_type": "code",
   "execution_count": 26,
   "id": "123e1218",
   "metadata": {},
   "outputs": [
    {
     "data": {
      "text/html": [
       "<div>\n",
       "<style scoped>\n",
       "    .dataframe tbody tr th:only-of-type {\n",
       "        vertical-align: middle;\n",
       "    }\n",
       "\n",
       "    .dataframe tbody tr th {\n",
       "        vertical-align: top;\n",
       "    }\n",
       "\n",
       "    .dataframe thead th {\n",
       "        text-align: right;\n",
       "    }\n",
       "</style>\n",
       "<table border=\"1\" class=\"dataframe\">\n",
       "  <thead>\n",
       "    <tr style=\"text-align: right;\">\n",
       "      <th></th>\n",
       "      <th>id</th>\n",
       "      <th>first_name</th>\n",
       "      <th>last_name</th>\n",
       "      <th>email</th>\n",
       "      <th>gender</th>\n",
       "      <th>ip_address</th>\n",
       "      <th>visit</th>\n",
       "    </tr>\n",
       "  </thead>\n",
       "  <tbody>\n",
       "    <tr>\n",
       "      <th>0</th>\n",
       "      <td>1</td>\n",
       "      <td>Sonny</td>\n",
       "      <td>Dahl</td>\n",
       "      <td>sdahl0@mysql.com</td>\n",
       "      <td>Male</td>\n",
       "      <td>135.36.96.183</td>\n",
       "      <td>1225.0</td>\n",
       "    </tr>\n",
       "    <tr>\n",
       "      <th>1</th>\n",
       "      <td>2</td>\n",
       "      <td>NaN</td>\n",
       "      <td>NaN</td>\n",
       "      <td>dhoovart1@hud.gov</td>\n",
       "      <td>NaN</td>\n",
       "      <td>237.165.194.143</td>\n",
       "      <td>919.0</td>\n",
       "    </tr>\n",
       "    <tr>\n",
       "      <th>2</th>\n",
       "      <td>3</td>\n",
       "      <td>Gar</td>\n",
       "      <td>Armal</td>\n",
       "      <td>garmal2@technorati.com</td>\n",
       "      <td>NaN</td>\n",
       "      <td>166.43.137.224</td>\n",
       "      <td>271.0</td>\n",
       "    </tr>\n",
       "    <tr>\n",
       "      <th>3</th>\n",
       "      <td>4</td>\n",
       "      <td>Chiarra</td>\n",
       "      <td>Nulty</td>\n",
       "      <td>cnulty3@newyorker.com</td>\n",
       "      <td>NaN</td>\n",
       "      <td>139.98.137.108</td>\n",
       "      <td>1002.0</td>\n",
       "    </tr>\n",
       "    <tr>\n",
       "      <th>4</th>\n",
       "      <td>5</td>\n",
       "      <td>NaN</td>\n",
       "      <td>NaN</td>\n",
       "      <td>sleaver4@elegantthemes.com</td>\n",
       "      <td>NaN</td>\n",
       "      <td>46.117.117.27</td>\n",
       "      <td>2434.0</td>\n",
       "    </tr>\n",
       "  </tbody>\n",
       "</table>\n",
       "</div>"
      ],
      "text/plain": [
       "   id first_name last_name                       email gender  \\\n",
       "0   1      Sonny      Dahl            sdahl0@mysql.com   Male   \n",
       "1   2        NaN       NaN           dhoovart1@hud.gov    NaN   \n",
       "2   3        Gar     Armal      garmal2@technorati.com    NaN   \n",
       "3   4    Chiarra     Nulty       cnulty3@newyorker.com    NaN   \n",
       "4   5        NaN       NaN  sleaver4@elegantthemes.com    NaN   \n",
       "\n",
       "        ip_address   visit  \n",
       "0    135.36.96.183  1225.0  \n",
       "1  237.165.194.143   919.0  \n",
       "2   166.43.137.224   271.0  \n",
       "3   139.98.137.108  1002.0  \n",
       "4    46.117.117.27  2434.0  "
      ]
     },
     "execution_count": 26,
     "metadata": {},
     "output_type": "execute_result"
    }
   ],
   "source": [
    "df = pd.read_csv(\"visit_data.csv\")\n",
    "df.head(5)"
   ]
  },
  {
   "cell_type": "markdown",
   "id": "92ff5d21",
   "metadata": {},
   "source": [
    "# Task - 1 (Are there duplicates?)"
   ]
  },
  {
   "cell_type": "code",
   "execution_count": 27,
   "id": "b3f7cb99",
   "metadata": {},
   "outputs": [
    {
     "name": "stdout",
     "output_type": "stream",
     "text": [
      "First name is duplictaed - True\n",
      "Last name is duplictaed - True\n",
      "Email is duplictaed - False\n",
      "gender is duplictaed - True\n",
      "ip_address is duplictaed - False\n",
      "visit is duplictaed - True\n"
     ]
    }
   ],
   "source": [
    "print(\"First name is duplictaed - {}\".format(any(df.first_name.duplicated())))\n",
    "print(\"Last name is duplictaed - {}\".format(any(df.last_name.duplicated())))\n",
    "print(\"Email is duplictaed - {}\".format(any(df.email.duplicated())))\n",
    "print(\"gender is duplictaed - {}\".format(any(df.gender.duplicated())))\n",
    "print(\"ip_address is duplictaed - {}\".format(any(df.ip_address.duplicated())))\n",
    "print(\"visit is duplictaed - {}\".format(any(df.visit.duplicated())))"
   ]
  },
  {
   "cell_type": "markdown",
   "id": "48126750",
   "metadata": {},
   "source": [
    "# Task - 2 (do any essential column contain NaN?)"
   ]
  },
  {
   "cell_type": "code",
   "execution_count": 28,
   "id": "ea52a86a",
   "metadata": {},
   "outputs": [
    {
     "name": "stdout",
     "output_type": "stream",
     "text": [
      "The column Email contains NaN - False \n",
      "The column IP Address contains NaN - False \n",
      "The column Visit contains NaN - True \n"
     ]
    }
   ],
   "source": [
    "# Notice that we have different ways to format boolean values for the % operator\n",
    "print(\"The column Email contains NaN - %r \" % df.email.isnull().values.any())\n",
    "print(\"The column IP Address contains NaN - %s \" % df.ip_address.isnull().values.any())\n",
    "print(\"The column Visit contains NaN - %s \" % df.visit.isnull().values.any())"
   ]
  },
  {
   "cell_type": "markdown",
   "id": "6fb1d9bc",
   "metadata": {},
   "source": [
    "# Task - 3 (Get rid of the outliers)"
   ]
  },
  {
   "cell_type": "code",
   "execution_count": 29,
   "id": "18399416",
   "metadata": {},
   "outputs": [],
   "source": [
    "# There are various ways to do this. This is just one way. We encourage you to explore other ways.\n",
    "# But before that we need to store the previous size of the data set and we will compare it with the new size\n",
    "size_prev = df.shape\n",
    "df = df[np.isfinite(df['visit'])] #This is an inplace operation. After this operation the original DataFrame is lost.\n",
    "size_after = df.shape"
   ]
  },
  {
   "cell_type": "markdown",
   "id": "15db3ce0",
   "metadata": {},
   "source": [
    "# Task - 4 (Report the size difference)"
   ]
  },
  {
   "cell_type": "code",
   "execution_count": 30,
   "id": "5a2227df",
   "metadata": {},
   "outputs": [
    {
     "name": "stdout",
     "output_type": "stream",
     "text": [
      "The size of previous data was - 1000 rows and the size of the new one is - 974 rows\n"
     ]
    }
   ],
   "source": [
    "# Notice how parameterized format is used and then the indexing is working inside the quote marks\n",
    "print(\"The size of previous data was - {prev[0]} rows and the size of the new one is - {after[0]} rows\".\n",
    "      format(prev=size_prev, after=size_after))"
   ]
  },
  {
   "cell_type": "markdown",
   "id": "6dde594a",
   "metadata": {},
   "source": [
    "# Task - 5 (Box plot visit to further check any Outliers)"
   ]
  },
  {
   "cell_type": "code",
   "execution_count": 31,
   "id": "61dce697",
   "metadata": {},
   "outputs": [
    {
     "data": {
      "text/plain": [
       "{'whiskers': [<matplotlib.lines.Line2D at 0x2812cbff700>,\n",
       "  <matplotlib.lines.Line2D at 0x2812cbff9d0>],\n",
       " 'caps': [<matplotlib.lines.Line2D at 0x2812cbffd60>,\n",
       "  <matplotlib.lines.Line2D at 0x2812cbfff70>],\n",
       " 'boxes': [<matplotlib.lines.Line2D at 0x2812cbff430>],\n",
       " 'medians': [<matplotlib.lines.Line2D at 0x2812d2be280>],\n",
       " 'fliers': [<matplotlib.lines.Line2D at 0x2812d2be550>],\n",
       " 'means': []}"
      ]
     },
     "execution_count": 31,
     "metadata": {},
     "output_type": "execute_result"
    },
    {
     "data": {
      "image/png": "[encoded data removed]",
      "text/plain": [
       "<Figure size 432x288 with 1 Axes>"
      ]
     },
     "metadata": {
      "needs_background": "light"
     },
     "output_type": "display_data"
    }
   ],
   "source": [
    "plt.boxplot(df.visit, notch=True)"
   ]
  },
  {
   "cell_type": "code",
   "execution_count": 32,
   "id": "795d030c",
   "metadata": {},
   "outputs": [
    {
     "name": "stdout",
     "output_type": "stream",
     "text": [
      "new data without outlier is - 923\n"
     ]
    }
   ],
   "source": [
    "df1 = df[(df['visit'] <= 2900) & (df['visit'] >= 100)]  # Notice the powerful & operator\n",
    "print(\"new data without outlier is - {}\".format(*df1.shape))"
   ]
  },
  {
   "cell_type": "markdown",
   "id": "cd9482a7",
   "metadata": {},
   "source": [
    "# Insert data into a SQL Lite database\n",
    "a. Name, Address, City, State, Zip, Phone Number"
   ]
  },
  {
   "cell_type": "code",
   "execution_count": 33,
   "id": "5dc9cff7",
   "metadata": {},
   "outputs": [],
   "source": [
    "# Creating Table\n",
    "create_query = \"\"\"\n",
    "CREATE TABLE personal_detail\n",
    "(Name VARCHAR(100), \n",
    "Address VARCHAR(500),\n",
    "City VARCHAR(100), \n",
    "State VARCHAR(5),\n",
    "Zip INTEGER,\n",
    "Phone_Number VARCHAR(15)\n",
    ");\"\"\"\n",
    "\n",
    "con = sqlite3.connect(':memory:')\n",
    "con.execute(create_query)\n",
    "con.commit()"
   ]
  },
  {
   "cell_type": "code",
   "execution_count": 34,
   "id": "cbb925b8",
   "metadata": {},
   "outputs": [],
   "source": [
    "# Inserting Data\n",
    "Insert_data = [\n",
    "        ('Rob Cotton', '100 Main Road', 'Montpelier', 'VT', '55236', '4528693331'),\n",
    "        ('Dan Mike', '200 Main Road', 'Montpelier', 'VT', '55236', '6528693332'),\n",
    "        ('Mike R', '50 Main Road', 'Montpelier', 'VT', '55236', '9528693333'),\n",
    "        ('Rak K', '10 Main Road', 'Montpelier', 'VT', '55236', '2528693334'),\n",
    "        ('Donald T', '40 Main Road', 'Montpelier', 'VT', '55236', '7528693335'),\n",
    "        ('Vijay R', '15 Main Road', 'Montpelier', 'VT', '55236', '1528693336'),\n",
    "        ('Sylvia R', '500 Main Road', 'Montpelier', 'VT', '55236', '3528693338'),\n",
    "        ('Deniss T', '29 Main Road', 'Montpelier', 'VT', '55236', '8528693323'),\n",
    "        ('Michele V', '36 Main Road', 'Montpelier', 'VT', '55236', '4528693345'),\n",
    "        ('Jan R', '69 Main Road', 'Montpelier', 'VT', '55236', '2528693751') ,\n",
    "        ('Renee K', '82 Main Road', 'Montpelier', 'VT', '55236', '9528693831') \n",
    "    \n",
    "]\n",
    "\n",
    "insert_query = \"INSERT INTO personal_detail VALUES(?, ?, ?, ?, ?, ?)\"\n",
    "\n",
    "con.executemany(insert_query, Insert_data)\n",
    "con.commit()"
   ]
  },
  {
   "cell_type": "code",
   "execution_count": 35,
   "id": "b4261fa5",
   "metadata": {},
   "outputs": [
    {
     "data": {
      "text/plain": [
       "[('Rob Cotton', '100 Main Road', 'Montpelier', 'VT', 55236, '4528693331'),\n",
       " ('Dan Mike', '200 Main Road', 'Montpelier', 'VT', 55236, '6528693332'),\n",
       " ('Mike R', '50 Main Road', 'Montpelier', 'VT', 55236, '9528693333'),\n",
       " ('Rak K', '10 Main Road', 'Montpelier', 'VT', 55236, '2528693334'),\n",
       " ('Donald T', '40 Main Road', 'Montpelier', 'VT', 55236, '7528693335'),\n",
       " ('Vijay R', '15 Main Road', 'Montpelier', 'VT', 55236, '1528693336'),\n",
       " ('Sylvia R', '500 Main Road', 'Montpelier', 'VT', 55236, '3528693338'),\n",
       " ('Deniss T', '29 Main Road', 'Montpelier', 'VT', 55236, '8528693323'),\n",
       " ('Michele V', '36 Main Road', 'Montpelier', 'VT', 55236, '4528693345'),\n",
       " ('Jan R', '69 Main Road', 'Montpelier', 'VT', 55236, '2528693751'),\n",
       " ('Renee K', '82 Main Road', 'Montpelier', 'VT', 55236, '9528693831')]"
      ]
     },
     "execution_count": 35,
     "metadata": {},
     "output_type": "execute_result"
    }
   ],
   "source": [
    "cursor = con.execute ('select * from personal_detail')\n",
    "rows  = cursor.fetchall()\n",
    "rows"
   ]
  },
  {
   "cell_type": "markdown",
   "id": "9e4a3a9f",
   "metadata": {},
   "source": [
    "# b. Add at least 10 rows of data and submit your code with a query generating your results."
   ]
  },
  {
   "cell_type": "code",
   "execution_count": 36,
   "id": "9e297fea",
   "metadata": {},
   "outputs": [
    {
     "data": {
      "text/html": [
       "<div>\n",
       "<style scoped>\n",
       "    .dataframe tbody tr th:only-of-type {\n",
       "        vertical-align: middle;\n",
       "    }\n",
       "\n",
       "    .dataframe tbody tr th {\n",
       "        vertical-align: top;\n",
       "    }\n",
       "\n",
       "    .dataframe thead th {\n",
       "        text-align: right;\n",
       "    }\n",
       "</style>\n",
       "<table border=\"1\" class=\"dataframe\">\n",
       "  <thead>\n",
       "    <tr style=\"text-align: right;\">\n",
       "      <th></th>\n",
       "      <th>Name</th>\n",
       "      <th>Address</th>\n",
       "      <th>City</th>\n",
       "      <th>State</th>\n",
       "      <th>Zip</th>\n",
       "      <th>Phone_Number</th>\n",
       "    </tr>\n",
       "  </thead>\n",
       "  <tbody>\n",
       "    <tr>\n",
       "      <th>0</th>\n",
       "      <td>Rob Cotton</td>\n",
       "      <td>100 Main Road</td>\n",
       "      <td>Montpelier</td>\n",
       "      <td>VT</td>\n",
       "      <td>55236</td>\n",
       "      <td>4528693331</td>\n",
       "    </tr>\n",
       "    <tr>\n",
       "      <th>1</th>\n",
       "      <td>Dan Mike</td>\n",
       "      <td>200 Main Road</td>\n",
       "      <td>Montpelier</td>\n",
       "      <td>VT</td>\n",
       "      <td>55236</td>\n",
       "      <td>6528693332</td>\n",
       "    </tr>\n",
       "    <tr>\n",
       "      <th>2</th>\n",
       "      <td>Mike R</td>\n",
       "      <td>50 Main Road</td>\n",
       "      <td>Montpelier</td>\n",
       "      <td>VT</td>\n",
       "      <td>55236</td>\n",
       "      <td>9528693333</td>\n",
       "    </tr>\n",
       "    <tr>\n",
       "      <th>3</th>\n",
       "      <td>Rak K</td>\n",
       "      <td>10 Main Road</td>\n",
       "      <td>Montpelier</td>\n",
       "      <td>VT</td>\n",
       "      <td>55236</td>\n",
       "      <td>2528693334</td>\n",
       "    </tr>\n",
       "    <tr>\n",
       "      <th>4</th>\n",
       "      <td>Donald T</td>\n",
       "      <td>40 Main Road</td>\n",
       "      <td>Montpelier</td>\n",
       "      <td>VT</td>\n",
       "      <td>55236</td>\n",
       "      <td>7528693335</td>\n",
       "    </tr>\n",
       "    <tr>\n",
       "      <th>5</th>\n",
       "      <td>Vijay R</td>\n",
       "      <td>15 Main Road</td>\n",
       "      <td>Montpelier</td>\n",
       "      <td>VT</td>\n",
       "      <td>55236</td>\n",
       "      <td>1528693336</td>\n",
       "    </tr>\n",
       "    <tr>\n",
       "      <th>6</th>\n",
       "      <td>Sylvia R</td>\n",
       "      <td>500 Main Road</td>\n",
       "      <td>Montpelier</td>\n",
       "      <td>VT</td>\n",
       "      <td>55236</td>\n",
       "      <td>3528693338</td>\n",
       "    </tr>\n",
       "    <tr>\n",
       "      <th>7</th>\n",
       "      <td>Deniss T</td>\n",
       "      <td>29 Main Road</td>\n",
       "      <td>Montpelier</td>\n",
       "      <td>VT</td>\n",
       "      <td>55236</td>\n",
       "      <td>8528693323</td>\n",
       "    </tr>\n",
       "    <tr>\n",
       "      <th>8</th>\n",
       "      <td>Michele V</td>\n",
       "      <td>36 Main Road</td>\n",
       "      <td>Montpelier</td>\n",
       "      <td>VT</td>\n",
       "      <td>55236</td>\n",
       "      <td>4528693345</td>\n",
       "    </tr>\n",
       "    <tr>\n",
       "      <th>9</th>\n",
       "      <td>Jan R</td>\n",
       "      <td>69 Main Road</td>\n",
       "      <td>Montpelier</td>\n",
       "      <td>VT</td>\n",
       "      <td>55236</td>\n",
       "      <td>2528693751</td>\n",
       "    </tr>\n",
       "    <tr>\n",
       "      <th>10</th>\n",
       "      <td>Renee K</td>\n",
       "      <td>82 Main Road</td>\n",
       "      <td>Montpelier</td>\n",
       "      <td>VT</td>\n",
       "      <td>55236</td>\n",
       "      <td>9528693831</td>\n",
       "    </tr>\n",
       "  </tbody>\n",
       "</table>\n",
       "</div>"
      ],
      "text/plain": [
       "          Name        Address        City State    Zip Phone_Number\n",
       "0   Rob Cotton  100 Main Road  Montpelier    VT  55236   4528693331\n",
       "1     Dan Mike  200 Main Road  Montpelier    VT  55236   6528693332\n",
       "2       Mike R   50 Main Road  Montpelier    VT  55236   9528693333\n",
       "3        Rak K   10 Main Road  Montpelier    VT  55236   2528693334\n",
       "4     Donald T   40 Main Road  Montpelier    VT  55236   7528693335\n",
       "5      Vijay R   15 Main Road  Montpelier    VT  55236   1528693336\n",
       "6     Sylvia R  500 Main Road  Montpelier    VT  55236   3528693338\n",
       "7     Deniss T   29 Main Road  Montpelier    VT  55236   8528693323\n",
       "8    Michele V   36 Main Road  Montpelier    VT  55236   4528693345\n",
       "9        Jan R   69 Main Road  Montpelier    VT  55236   2528693751\n",
       "10     Renee K   82 Main Road  Montpelier    VT  55236   9528693831"
      ]
     },
     "execution_count": 36,
     "metadata": {},
     "output_type": "execute_result"
    }
   ],
   "source": [
    "import pandas.io.sql as sql\n",
    "sql.read_sql('select * from personal_detail', con)"
   ]
  },
  {
   "cell_type": "code",
   "execution_count": 38,
   "id": "6d5372f0",
   "metadata": {},
   "outputs": [],
   "source": [
    "# Closing the connection\n",
    "con.close()"
   ]
  },
  {
   "cell_type": "code",
   "execution_count": null,
   "id": "3e559e57",
   "metadata": {},
   "outputs": [],
   "source": []
  }
 ],
 "metadata": {
  "kernelspec": {
   "display_name": "Python 3 (ipykernel)",
   "language": "python",
   "name": "python3"
  },
  "language_info": {
   "codemirror_mode": {
    "name": "ipython",
    "version": 3
   },
   "file_extension": ".py",
   "mimetype": "text/x-python",
   "name": "python",
   "nbconvert_exporter": "python",
   "pygments_lexer": "ipython3",
   "version": "3.9.12"
  }
 },
 "nbformat": 4,
 "nbformat_minor": 5
}
