{
 "cells": [
  {
   "cell_type": "markdown",
   "id": "5cbc1ed4",
   "metadata": {},
   "source": [
    "# File: MadhaviGhanta_Weeks_7_8_Exercises\n",
    "## Name: Madhavi Ghanta\n",
    "## Date: 07/28/23\n",
    "## Course: DSC 540 - Weeks 7 & 8 Exercises\n"
   ]
  },
  {
   "cell_type": "markdown",
   "id": "886708ae",
   "metadata": {},
   "source": [
    "# ACTIVITY 9: EXTRACTING THE TOP 100 EBOOKS FROM GUTENBERG"
   ]
  },
  {
   "cell_type": "code",
   "execution_count": 1,
   "id": "806f90cd",
   "metadata": {},
   "outputs": [],
   "source": [
    "# Import the required libraries\n",
    "import pandas as pd\n",
    "import numpy as np\n",
    "import urllib.request, urllib.parse, urllib.error\n",
    "import requests\n",
    "from bs4 import BeautifulSoup\n",
    "import ssl\n",
    "import re"
   ]
  },
  {
   "cell_type": "code",
   "execution_count": 2,
   "id": "91873e11",
   "metadata": {},
   "outputs": [],
   "source": [
    "# Check the SSL Certificates\n",
    "context = ssl.create_default_context()\n",
    "context.check_hostname = False\n",
    "context.verify_mode = ssl.CERT_NONE"
   ]
  },
  {
   "cell_type": "code",
   "execution_count": 3,
   "id": "88c849ad",
   "metadata": {},
   "outputs": [],
   "source": [
    "#Read the HTML from URL\n",
    "top100url = 'https://www.gutenberg.org/browse/scores/top'\n",
    "response = requests.get(top100url)"
   ]
  },
  {
   "cell_type": "code",
   "execution_count": 4,
   "id": "e9e0220a",
   "metadata": {},
   "outputs": [],
   "source": [
    "# function to check the status of the web request\n",
    "def status_check(r):\n",
    "    if r.status_code==200:\n",
    "        print(\"Success!\")\n",
    "        return 1\n",
    "    else:\n",
    "        print(\"Failed!\")\n",
    "        return -1"
   ]
  },
  {
   "cell_type": "code",
   "execution_count": 5,
   "id": "ea35206e",
   "metadata": {},
   "outputs": [
    {
     "name": "stdout",
     "output_type": "stream",
     "text": [
      "Success!\n"
     ]
    },
    {
     "data": {
      "text/plain": [
       "1"
      ]
     },
     "execution_count": 5,
     "metadata": {},
     "output_type": "execute_result"
    }
   ],
   "source": [
    "status_check(response)"
   ]
  },
  {
   "cell_type": "code",
   "execution_count": 6,
   "id": "201c6b0e",
   "metadata": {},
   "outputs": [],
   "source": [
    "#Decode and  HTML parsing\n",
    "contents = response.content.decode(response.encoding)\n",
    "soup = BeautifulSoup(contents, 'html.parser')"
   ]
  },
  {
   "cell_type": "code",
   "execution_count": 7,
   "id": "84c062dd",
   "metadata": {},
   "outputs": [],
   "source": [
    "# Find all the href tags and store them in the list of links. Check how the list looks like - print first 30 elements\n",
    "\n",
    "# List to hold all the http links in the HTML page\n",
    "lst_links=[]\n",
    "# Find all the href tags and store them in the list of links\n",
    "for link in soup.find_all('a'):\n",
    "    #print(link.get('href'))\n",
    "    lst_links.append(link.get('href'))"
   ]
  },
  {
   "cell_type": "code",
   "execution_count": 8,
   "id": "cab5a842",
   "metadata": {},
   "outputs": [
    {
     "data": {
      "text/plain": [
       "['/',\n",
       " '/about/',\n",
       " '/about/',\n",
       " '/policy/collection_development.html',\n",
       " '/about/contact_information.html',\n",
       " '/about/background/',\n",
       " '/policy/permission.html',\n",
       " '/policy/privacy_policy.html',\n",
       " '/policy/terms_of_use.html',\n",
       " '/ebooks/',\n",
       " '/ebooks/',\n",
       " '/ebooks/bookshelf/',\n",
       " '/browse/scores/top',\n",
       " '/ebooks/offline_catalogs.html',\n",
       " '/help/',\n",
       " '/help/',\n",
       " '/help/copyright.html',\n",
       " '/help/errata.html',\n",
       " '/help/file_formats.html',\n",
       " '/help/faq.html',\n",
       " '/policy/',\n",
       " '/help/public_domain_ebook_submission.html',\n",
       " '/help/submitting_your_own_work.html',\n",
       " '/help/mobile.html',\n",
       " '/attic/',\n",
       " '/donate/',\n",
       " '/donate/',\n",
       " '#books-last1',\n",
       " '#authors-last1',\n",
       " '#books-last7']"
      ]
     },
     "execution_count": 8,
     "metadata": {},
     "output_type": "execute_result"
    }
   ],
   "source": [
    "lst_links[:30]"
   ]
  },
  {
   "cell_type": "code",
   "execution_count": 9,
   "id": "42febf66",
   "metadata": {},
   "outputs": [
    {
     "name": "stdout",
     "output_type": "stream",
     "text": [
      "\n",
      "The file numbers for the top 100 ebooks on Gutenberg are shown below\n",
      "----------------------------------------------------------------------\n",
      "[1, 1, 7, 7, 30, 30, 1513, 2701, 145, 2641, 100, 37106, 16389, 67979, 394, 6761, 2160, 4085, 6593, 1259, 5197, 1399, 1342, 71292, 60547, 11, 98, 84, 1661, 345, 71291, 1184, 55387, 42475, 174, 28054, 27827, 4300, 30254, 5200, 2600, 64317, 2680, 71285, 17346, 2591, 1998, 2554, 58585, 1232, 3206, 6130, 1080, 4363, 844, 33283, 1400, 2638, 5740, 71283, 74, 42108, 45, 158, 1260, 8800, 76, 1727, 821, 1952, 24869, 205, 31284, 244, 1497, 996, 55, 768, 36, 71, 600, 2542, 71284, 135, 67098, 120, 16, 10, 8492, 71286, 40686, 5827]\n"
     ]
    }
   ],
   "source": [
    "# Use a regular expression to find the numeric digits in these links. These are the file numbers for the top 100 eBooks.\n",
    "booknum=[]\n",
    "for i in range(19,119):\n",
    "    link=lst_links[i]\n",
    "    link=link.strip()\n",
    "    # Regular expression to find the numeric digits in the link (href) string\n",
    "    n=re.findall('[0-9]+',link)\n",
    "    if len(n)==1:\n",
    "        # Append the filenumber casted as integer\n",
    "        booknum.append(int(n[0]))\n",
    "print (\"\\nThe file numbers for the top 100 ebooks on Gutenberg are shown below\\n\"+\"-\"*70)\n",
    "print(booknum)"
   ]
  },
  {
   "cell_type": "code",
   "execution_count": 10,
   "id": "031ccc35",
   "metadata": {},
   "outputs": [
    {
     "data": {
      "text/plain": [
       "'\\n\\n\\n\\nTop 100 | Project Gutenberg\\n\\n\\n\\n\\n\\n\\n\\n\\n\\n\\n\\n\\n\\n\\n\\n\\n\\n\\n\\n\\n\\n\\n\\n\\n\\n\\n\\nMenu▾\\n\\n\\n\\nAbout\\n          ▾\\n\\n▾\\n\\n\\nAbout Project Gutenberg\\nCollection Development\\nContact Us\\nHistory & Philosophy\\nPermissions & License\\nPrivacy Policy\\nTerms of Use\\n\\n\\n\\nSearch and Browse\\n      \\t  ▾\\n\\n▾\\n\\n\\nBook Search\\nBookshelves\\nFrequently Downloaded\\nOffline Catalogs\\n\\n\\n\\nHelp\\n          ▾\\n\\n▾\\n\\n\\nAll help topics →\\nCopyright How-To\\nErrata, Fixes and Bug Reports\\nFile Formats\\nFrequently Asked Questions\\nPolicies →\\nPublic Domain eBook Submission\\nSubmitting Your Own Work\\nTablets, Phones and eReaders\\nThe Attic →\\n\\n\\nDonate\\n\\n\\n\\n\\n\\n\\n\\n\\n\\n\\nDonation\\n\\n\\n\\n\\n\\n\\n\\nFrequently Viewed or Downloaded\\nThese listings are based on the number of times each eBook gets downloaded.\\n      Multiple downloads from the same Internet address on the same day count as one download, and addresses that download more than 100 eBooks in a day are considered robots and are not counted.\\n\\nDownloaded Books\\n2023-07-29203650\\nlast 7 days1520864\\nlast 30 days5910330\\n\\n\\n\\nTop 100 EBooks yesterday\\nTop 100 Authors yesterday\\nTop 100 EBooks last 7 days\\nTop 100 Authors last 7 days\\nTop 100 EBooks last 30 days\\nTop 100 Authors last 30 days\\n\\n\\nTop 100 EBooks yesterday\\n\\nRomeo and Juliet by William Shakespeare (2511)\\nMoby Dick; Or, The Whale by Herman Melville (2314)\\nMiddlemarch by George Eliot (2098)\\nA Room with a View by E. M.  Forster (2093)\\nThe Complete Works of William Shakespeare by William Shakespeare (2000)\\nLittle Women; Or, Meg, Jo, Beth, and Amy by Louisa May Alcott (1992)\\nThe Enchanted April by Elizabeth Von Arnim (1911)\\nThe Blue Castle: a novel by L. M.  Montgomery (1905)\\nCranford by Elizabeth Cleghorn Gaskell (1780)\\nThe Adventures of Ferdinand Count Fathom — Complete by T.  Smollett (1772)\\nThe Expedition of Humphry Clinker by T.  Smollett (1742)\\nThe Adventures of Roderick Random by T.  Smollett (1735)\\nHistory of Tom Jones, a Foundling by Henry Fielding (1705)\\nTwenty Years After by Alexandre Dumas (1696)\\nMy Life — Volume 1 by Richard Wagner (1662)\\nAnna Karenina by graf Leo Tolst'"
      ]
     },
     "execution_count": 10,
     "metadata": {},
     "output_type": "execute_result"
    }
   ],
   "source": [
    "#How does the soup object's text look like? Use .text() method and print only first 2000 characters (i.e. do not print the whole thing, it is long).\n",
    "soup.text[:2000]"
   ]
  },
  {
   "cell_type": "code",
   "execution_count": 11,
   "id": "893875ea",
   "metadata": {},
   "outputs": [],
   "source": [
    "# Search in the extracted text\n",
    "lst_titles_temp=[]\n",
    "\n",
    "#Create a starting index. It should point at the text \"Top 100 Ebooks yesterday\".\n",
    "start_idx=soup.text.splitlines().index('Top 100 EBooks yesterday')"
   ]
  },
  {
   "cell_type": "code",
   "execution_count": 12,
   "id": "f7d33bfc",
   "metadata": {},
   "outputs": [],
   "source": [
    "# Loop 1-100 to add the strings of next 100 lines to this temporary list.\n",
    "for i in range(100):\n",
    "    lst_titles_temp.append(soup.text.splitlines()[start_idx+2+i])\n"
   ]
  },
  {
   "cell_type": "code",
   "execution_count": 13,
   "id": "8dd57ffb",
   "metadata": {},
   "outputs": [
    {
     "name": "stdout",
     "output_type": "stream",
     "text": [
      "Top \n",
      "Top \n",
      "Top \n",
      "Top \n",
      "\n",
      "\n",
      "Top \n",
      "\n",
      "Romeo and Juliet by William Shakespeare \n",
      "Moby Dick\n",
      "Middlemarch by George Eliot \n",
      "A Room with a View by E\n",
      "The Complete Works of William Shakespeare by William Shakespeare \n",
      "Little Women\n",
      "The Enchanted April by Elizabeth Von Arnim \n",
      "The Blue Castle\n",
      "Cranford by Elizabeth Cleghorn Gaskell \n",
      "The Adventures of Ferdinand Count Fathom \n",
      "The Expedition of Humphry Clinker by T\n",
      "The Adventures of Roderick Random by T\n",
      "History of Tom Jones\n",
      "Twenty Years After by Alexandre Dumas \n",
      "My Life \n",
      "Anna Karenina by graf Leo Tolstoy \n",
      "Pride and Prejudice by Jane Austen \n",
      "Babbage\n",
      "Studies in Classic American Literature by D\n",
      "Alice\n",
      "A Tale of Two Cities by Charles Dickens \n",
      "Frankenstein\n",
      "The Adventures of Sherlock Holmes by Arthur Conan Doyle \n",
      "Dracula by Bram Stoker \n",
      "Physical significance of entropy or of the second law by John Frederick Klein \n",
      "The Count of Monte Cristo\n",
      "One Hundred Proofs That the Earth Is Not a Globe by William Carpenter \n",
      "The History of Ancient America\n",
      "The Picture of Dorian Gray by Oscar Wilde \n",
      "The Brothers Karamazov by Fyodor Dostoyevsky \n",
      "The Kama Sutra of Vatsyayana by Vatsyayana \n",
      "Ulysses by James Joyce \n",
      "The Romance of Lust\n",
      "Metamorphosis by Franz Kafka \n",
      "War and Peace by graf Leo Tolstoy \n",
      "The Great Gatsby by F\n",
      "Meditations by Emperor of Rome Marcus Aurelius \n",
      "Dead letters by Maurice Baring \n",
      "The Report on Unidentified Flying Objects by Edward J\n",
      "Grimms\n",
      "Thus Spake Zarathustra\n",
      "Crime and Punishment by Fyodor Dostoyevsky \n",
      "The Prophet by Kahlil Gibran \n",
      "The Prince by Niccol\n",
      "Moby Multiple Language Lists of Common Words by Grady Ward \n",
      "The Iliad by Homer \n",
      "A Modest Proposal by Jonathan Swift \n",
      "Beyond Good and Evil by Friedrich Wilhelm Nietzsche \n",
      "The Importance of Being Earnest\n",
      "Calculus Made Easy by Silvanus P\n",
      "Great Expectations by Charles Dickens \n",
      "The Idiot by Fyodor Dostoyevsky \n",
      "Tractatus Logico\n",
      "Richard the Lion Heart by Kate Norgate \n",
      "The Adventures of Tom Sawyer\n",
      "The slang dictionary \n",
      "Anne of Green Gables by L\n",
      "Emma by Jane Austen \n",
      "Jane Eyre\n",
      "The divine comedy by Dante Alighieri \n",
      "Adventures of Huckleberry Finn by Mark Twain \n",
      "The Odyssey by Homer \n",
      "Dombey and Son by Charles Dickens \n",
      "The Yellow Wallpaper by Charlotte Perkins Gilman \n",
      "The R\n",
      "Walden\n",
      "Josefine Mutzenbacher by Felix Salten \n",
      "A Study in Scarlet by Arthur Conan Doyle \n",
      "The Republic by Plato \n",
      "Don Quixote by Miguel de Cervantes Saavedra \n",
      "The Wonderful Wizard of Oz by L\n",
      "Wuthering Heights by Emily Bront\n",
      "The War of the Worlds by H\n",
      "On the Duty of Civil Disobedience by Henry David Thoreau \n",
      "Notes from the Underground by Fyodor Dostoyevsky \n",
      "A Doll\n",
      "The House of Egremont \n",
      "Les Mis\n",
      "Winnie\n",
      "Treasure Island by Robert Louis Stevenson \n",
      "Peter Pan by J\n",
      "The King James Version of the Bible \n",
      "The King in Yellow by Robert W\n",
      "Oliver Ellis \n",
      "Demonology and Devil\n",
      "The Problems of Philosophy by Bertrand Russell \n",
      "The Scarlet Letter by Nathaniel Hawthorne \n",
      "The Strange Case of Dr\n",
      "Heart of Darkness by Joseph Conrad \n",
      "Little Women by Louisa May Alcott \n",
      "David Copperfield by Charles Dickens \n",
      "The Art of War by active \n"
     ]
    }
   ],
   "source": [
    "# Print the list of tites\n",
    "lst_titles=[]\n",
    "for i in range(100):\n",
    "    id1,id2=re.match('^[a-zA-Z ]*',lst_titles_temp[i]).span()\n",
    "    lst_titles.append(lst_titles_temp[i][id1:id2])\n",
    "for l in lst_titles:\n",
    "    print(l)"
   ]
  },
  {
   "cell_type": "markdown",
   "id": "8aaed809",
   "metadata": {},
   "source": [
    "# Activity 10: To retrieve and print basic data about a movie"
   ]
  },
  {
   "cell_type": "code",
   "execution_count": 14,
   "id": "2acaec98",
   "metadata": {},
   "outputs": [],
   "source": [
    "# Importing required libraries\n",
    "import urllib.request, urllib.parse, urllib.error\n",
    "import json"
   ]
  },
  {
   "cell_type": "code",
   "execution_count": 15,
   "id": "db4ce8f8",
   "metadata": {},
   "outputs": [],
   "source": [
    "with open('APIkeys.json') as f:\n",
    "    keys = json.load(f)\n",
    "    omdbapi = keys['OMDBapi']"
   ]
  },
  {
   "cell_type": "code",
   "execution_count": 16,
   "id": "b8512454",
   "metadata": {},
   "outputs": [],
   "source": [
    "serviceurl = 'http://www.omdbapi.com/?'\n",
    "apikey = '&apikey='+omdbapi"
   ]
  },
  {
   "cell_type": "code",
   "execution_count": 17,
   "id": "5d36c73f",
   "metadata": {},
   "outputs": [],
   "source": [
    "#Write a utility function called print_json to print the movie data from a JSON file\n",
    "def print_json(json_data):\n",
    "    list_keys=['Title', 'Year', 'Rated', 'Released', 'Runtime', 'Genre', 'Director', 'Writer', \n",
    "               'Actors', 'Plot', 'Language', 'Country', 'Awards', 'Ratings', \n",
    "               'Metascore', 'imdbRating', 'imdbVotes', 'imdbID']\n",
    "    print(\"-\"*50)\n",
    "    for k in list_keys:\n",
    "        if k in list(json_data.keys()):\n",
    "            print(f\"{k}: {json_data[k]}\")\n",
    "    print(\"-\"*50)"
   ]
  },
  {
   "cell_type": "code",
   "execution_count": 18,
   "id": "1d7d5fa7",
   "metadata": {},
   "outputs": [],
   "source": [
    "# Write a utility function to download a poster of the movie\n",
    "def save_poster(json_data):\n",
    "    import os\n",
    "    title = json_data['Title']\n",
    "    poster_url = json_data['Poster']\n",
    "    # Splits the poster url by '.' and picks up the last string as file extension\n",
    "    poster_file_extension=poster_url.split('.')[-1]\n",
    "    # Reads the image file from web\n",
    "    poster_data = urllib.request.urlopen(poster_url).read()\n",
    "        \n",
    "    savelocation=os.getcwd()+'\\\\'+'Posters'+'\\\\'\n",
    "    # Creates new directory if the directory does not exist. Otherwise, just use the existing path.\n",
    "    if not os.path.isdir(savelocation):\n",
    "        os.mkdir(savelocation)\n",
    "    \n",
    "    filename=savelocation+str(title)+'.'+poster_file_extension\n",
    "    f=open(filename,'wb')\n",
    "    f.write(poster_data)\n",
    "    f.close()"
   ]
  },
  {
   "cell_type": "code",
   "execution_count": 19,
   "id": "c56750a6",
   "metadata": {},
   "outputs": [],
   "source": [
    "# Write a utility function called search_movie to search for a movie by its name,\n",
    "def search_movie(title):\n",
    "    try:\n",
    "        url = serviceurl + urllib.parse.urlencode({'t': str(title)})+apikey\n",
    "        print(f'Retrieving the data of \"{title}\" now... ')\n",
    "        print(url)\n",
    "        uh = urllib.request.urlopen(url)\n",
    "        data = uh.read()\n",
    "        json_data=json.loads(data)\n",
    "        \n",
    "        if json_data['Response']=='True':\n",
    "            print_json(json_data)\n",
    "            # Asks user whether to download the poster of the movie\n",
    "            if json_data['Poster']!='N/A':\n",
    "                save_poster(json_data)\n",
    "        else:\n",
    "            print(\"Error encountered: \",json_data['Error'])\n",
    "    \n",
    "    except urllib.error.URLError as e:\n",
    "        print(f\"ERROR: {e.reason}\")"
   ]
  },
  {
   "cell_type": "code",
   "execution_count": 20,
   "id": "3448a95b",
   "metadata": {},
   "outputs": [
    {
     "name": "stdout",
     "output_type": "stream",
     "text": [
      "Retrieving the data of \"Titanic\" now... \n",
      "http://www.omdbapi.com/?t=Titanic&apikey=49145406\n",
      "--------------------------------------------------\n",
      "Title: Titanic\n",
      "Year: 1997\n",
      "Rated: PG-13\n",
      "Released: 19 Dec 1997\n",
      "Runtime: 194 min\n",
      "Genre: Drama, Romance\n",
      "Director: James Cameron\n",
      "Writer: James Cameron\n",
      "Actors: Leonardo DiCaprio, Kate Winslet, Billy Zane\n",
      "Plot: A seventeen-year-old aristocrat falls in love with a kind but poor artist aboard the luxurious, ill-fated R.M.S. Titanic.\n",
      "Language: English, Swedish, Italian, French\n",
      "Country: United States, Mexico\n",
      "Awards: Won 11 Oscars. 126 wins & 83 nominations total\n",
      "Ratings: [{'Source': 'Internet Movie Database', 'Value': '7.9/10'}, {'Source': 'Rotten Tomatoes', 'Value': '88%'}, {'Source': 'Metacritic', 'Value': '75/100'}]\n",
      "Metascore: 75\n",
      "imdbRating: 7.9\n",
      "imdbVotes: 1,228,124\n",
      "imdbID: tt0120338\n",
      "--------------------------------------------------\n"
     ]
    }
   ],
   "source": [
    "# Test the search_movie function by entering Titanic.\n",
    "search_movie(\"Titanic\")"
   ]
  },
  {
   "cell_type": "code",
   "execution_count": 21,
   "id": "897c8b26",
   "metadata": {},
   "outputs": [
    {
     "name": "stdout",
     "output_type": "stream",
     "text": [
      "Retrieving the data of \"Random_error\" now... \n",
      "http://www.omdbapi.com/?t=Random_error&apikey=49145406\n",
      "Error encountered:  Movie not found!\n"
     ]
    }
   ],
   "source": [
    "# Test the search_movie function by entering \"Random_error\"\n",
    "search_movie(\"Random_error\")"
   ]
  },
  {
   "cell_type": "markdown",
   "id": "6df837e3",
   "metadata": {},
   "source": [
    "# Excercise 3: Connect to chosen API and do a simple data pull\n",
    "## Connecting to The Movie Database API & retrieving top 5 rated movies\n",
    "### https://www.themoviedb.org/\n"
   ]
  },
  {
   "cell_type": "code",
   "execution_count": 22,
   "id": "92129889",
   "metadata": {},
   "outputs": [],
   "source": [
    "import pandas as pd\n",
    "import requests"
   ]
  },
  {
   "cell_type": "code",
   "execution_count": 23,
   "id": "81c57aa4",
   "metadata": {},
   "outputs": [],
   "source": [
    "response = requests.get('https://api.themoviedb.org/3/movie/top_rated?api_key=5a1c2fef27bd067fd0fd47c3af916d79')"
   ]
  },
  {
   "cell_type": "code",
   "execution_count": 24,
   "id": "522f4c6b",
   "metadata": {},
   "outputs": [],
   "source": [
    "temp_df = pd.DataFrame(response.json()['results'])"
   ]
  },
  {
   "cell_type": "code",
   "execution_count": 25,
   "id": "65552399",
   "metadata": {},
   "outputs": [],
   "source": [
    "top_five_movies = pd.DataFrame(response.json()['results'])[['id','title','overview','release_date','popularity','vote_average']]"
   ]
  },
  {
   "cell_type": "code",
   "execution_count": 26,
   "id": "173a8d76",
   "metadata": {},
   "outputs": [
    {
     "data": {
      "text/html": [
       "<div>\n",
       "<style scoped>\n",
       "    .dataframe tbody tr th:only-of-type {\n",
       "        vertical-align: middle;\n",
       "    }\n",
       "\n",
       "    .dataframe tbody tr th {\n",
       "        vertical-align: top;\n",
       "    }\n",
       "\n",
       "    .dataframe thead th {\n",
       "        text-align: right;\n",
       "    }\n",
       "</style>\n",
       "<table border=\"1\" class=\"dataframe\">\n",
       "  <thead>\n",
       "    <tr style=\"text-align: right;\">\n",
       "      <th></th>\n",
       "      <th>id</th>\n",
       "      <th>title</th>\n",
       "      <th>overview</th>\n",
       "      <th>release_date</th>\n",
       "      <th>popularity</th>\n",
       "      <th>vote_average</th>\n",
       "    </tr>\n",
       "  </thead>\n",
       "  <tbody>\n",
       "    <tr>\n",
       "      <th>0</th>\n",
       "      <td>238</td>\n",
       "      <td>The Godfather</td>\n",
       "      <td>Spanning the years 1945 to 1955, a chronicle o...</td>\n",
       "      <td>1972-03-14</td>\n",
       "      <td>137.694</td>\n",
       "      <td>8.7</td>\n",
       "    </tr>\n",
       "    <tr>\n",
       "      <th>1</th>\n",
       "      <td>278</td>\n",
       "      <td>The Shawshank Redemption</td>\n",
       "      <td>Framed in the 1940s for the double murder of h...</td>\n",
       "      <td>1994-09-23</td>\n",
       "      <td>100.272</td>\n",
       "      <td>8.7</td>\n",
       "    </tr>\n",
       "    <tr>\n",
       "      <th>2</th>\n",
       "      <td>240</td>\n",
       "      <td>The Godfather Part II</td>\n",
       "      <td>In the continuing saga of the Corleone crime f...</td>\n",
       "      <td>1974-12-20</td>\n",
       "      <td>68.643</td>\n",
       "      <td>8.6</td>\n",
       "    </tr>\n",
       "    <tr>\n",
       "      <th>3</th>\n",
       "      <td>19404</td>\n",
       "      <td>Dilwale Dulhania Le Jayenge</td>\n",
       "      <td>Raj is a rich, carefree, happy-go-lucky second...</td>\n",
       "      <td>1995-10-20</td>\n",
       "      <td>28.244</td>\n",
       "      <td>8.6</td>\n",
       "    </tr>\n",
       "    <tr>\n",
       "      <th>4</th>\n",
       "      <td>424</td>\n",
       "      <td>Schindler's List</td>\n",
       "      <td>The true story of how businessman Oskar Schind...</td>\n",
       "      <td>1993-12-15</td>\n",
       "      <td>49.204</td>\n",
       "      <td>8.6</td>\n",
       "    </tr>\n",
       "  </tbody>\n",
       "</table>\n",
       "</div>"
      ],
      "text/plain": [
       "      id                        title  \\\n",
       "0    238                The Godfather   \n",
       "1    278     The Shawshank Redemption   \n",
       "2    240        The Godfather Part II   \n",
       "3  19404  Dilwale Dulhania Le Jayenge   \n",
       "4    424             Schindler's List   \n",
       "\n",
       "                                            overview release_date  popularity  \\\n",
       "0  Spanning the years 1945 to 1955, a chronicle o...   1972-03-14     137.694   \n",
       "1  Framed in the 1940s for the double murder of h...   1994-09-23     100.272   \n",
       "2  In the continuing saga of the Corleone crime f...   1974-12-20      68.643   \n",
       "3  Raj is a rich, carefree, happy-go-lucky second...   1995-10-20      28.244   \n",
       "4  The true story of how businessman Oskar Schind...   1993-12-15      49.204   \n",
       "\n",
       "   vote_average  \n",
       "0           8.7  \n",
       "1           8.7  \n",
       "2           8.6  \n",
       "3           8.6  \n",
       "4           8.6  "
      ]
     },
     "execution_count": 26,
     "metadata": {},
     "output_type": "execute_result"
    }
   ],
   "source": [
    "top_five_movies.head()"
   ]
  },
  {
   "cell_type": "code",
   "execution_count": 27,
   "id": "5805382b",
   "metadata": {},
   "outputs": [],
   "source": [
    "df = pd.DataFrame()"
   ]
  },
  {
   "cell_type": "markdown",
   "id": "1687ef39",
   "metadata": {},
   "source": [
    "# Excercise 4: Visualizations"
   ]
  },
  {
   "cell_type": "code",
   "execution_count": 28,
   "id": "e0128ff2",
   "metadata": {},
   "outputs": [],
   "source": [
    "import numpy as np \n",
    "import pandas as pd\n",
    "import seaborn as sns\n",
    "import matplotlib.pyplot as plt"
   ]
  },
  {
   "cell_type": "code",
   "execution_count": 29,
   "id": "639c45f4",
   "metadata": {},
   "outputs": [],
   "source": [
    "df=pd.read_csv('breast-cancer.csv')"
   ]
  },
  {
   "cell_type": "markdown",
   "id": "d50bcf12",
   "metadata": {},
   "source": [
    "## Plot Histogram"
   ]
  },
  {
   "cell_type": "code",
   "execution_count": 30,
   "id": "93f30177",
   "metadata": {},
   "outputs": [
    {
     "data": {
      "text/plain": [
       "<AxesSubplot:title={'center':'Histogram of Radius_Mean'}, xlabel='Radius_Mean', ylabel='Frequency'>"
      ]
     },
     "execution_count": 30,
     "metadata": {},
     "output_type": "execute_result"
    },
    {
     "data": {
      "image/png": "[encoded data removed]",
      "text/plain": [
       "<Figure size 720x288 with 1 Axes>"
      ]
     },
     "metadata": {
      "needs_background": "light"
     },
     "output_type": "display_data"
    }
   ],
   "source": [
    "plt.figure(figsize=(10,4))\n",
    "plt.xlabel(\"Radius_Mean\")\n",
    "plt.ylabel(\"Frequency\")\n",
    "plt.title(\"Histogram of Radius_Mean\")\n",
    "sns.histplot(df['radius_mean'])"
   ]
  },
  {
   "cell_type": "markdown",
   "id": "ae261751",
   "metadata": {},
   "source": [
    "## Plot Pie chart"
   ]
  },
  {
   "cell_type": "code",
   "execution_count": 31,
   "id": "5089ea65",
   "metadata": {},
   "outputs": [
    {
     "data": {
      "text/plain": [
       "Text(0.5, 1.0, 'diagnosis')"
      ]
     },
     "execution_count": 31,
     "metadata": {},
     "output_type": "execute_result"
    },
    {
     "data": {
      "image/png": "[encoded data removed]",
      "text/plain": [
       "<Figure size 360x360 with 1 Axes>"
      ]
     },
     "metadata": {},
     "output_type": "display_data"
    }
   ],
   "source": [
    "plt.figure(figsize=(5,5))\n",
    "df['diagnosis'].value_counts().plot.pie(explode=[0,0.1],autopct='%1.1f%%')\n",
    "plt.title('diagnosis')"
   ]
  },
  {
   "cell_type": "markdown",
   "id": "ed798aa2",
   "metadata": {},
   "source": [
    "## Scatter plot"
   ]
  },
  {
   "cell_type": "code",
   "execution_count": 32,
   "id": "a4bd1075",
   "metadata": {},
   "outputs": [
    {
     "data": {
      "image/png": "[encoded data removed]",
      "text/plain": [
       "<Figure size 720x360 with 1 Axes>"
      ]
     },
     "metadata": {
      "needs_background": "light"
     },
     "output_type": "display_data"
    }
   ],
   "source": [
    "plt.figure(figsize = (10,5))\n",
    "plt.scatter(df['radius_mean'],df['area_mean'])\n",
    "plt.title(\"scatter plot of Radius_mean and Area_mean\")\n",
    "plt.show()"
   ]
  },
  {
   "cell_type": "markdown",
   "id": "044dd1fe",
   "metadata": {},
   "source": [
    "## Line chart"
   ]
  },
  {
   "cell_type": "code",
   "execution_count": 33,
   "id": "2298262e",
   "metadata": {},
   "outputs": [
    {
     "data": {
      "text/plain": [
       "[<matplotlib.lines.Line2D at 0x1a903f3b670>]"
      ]
     },
     "execution_count": 33,
     "metadata": {},
     "output_type": "execute_result"
    },
    {
     "data": {
      "image/png": "[encoded data removed]",
      "text/plain": [
       "<Figure size 432x288 with 1 Axes>"
      ]
     },
     "metadata": {
      "needs_background": "light"
     },
     "output_type": "display_data"
    }
   ],
   "source": [
    "plt.plot(df['radius_mean'],df['diagnosis'])"
   ]
  },
  {
   "cell_type": "code",
   "execution_count": null,
   "id": "0960babb",
   "metadata": {},
   "outputs": [],
   "source": []
  }
 ],
 "metadata": {
  "kernelspec": {
   "display_name": "Python 3 (ipykernel)",
   "language": "python",
   "name": "python3"
  },
  "language_info": {
   "codemirror_mode": {
    "name": "ipython",
    "version": 3
   },
   "file_extension": ".py",
   "mimetype": "text/x-python",
   "name": "python",
   "nbconvert_exporter": "python",
   "pygments_lexer": "ipython3",
   "version": "3.9.12"
  }
 },
 "nbformat": 4,
 "nbformat_minor": 5
}
